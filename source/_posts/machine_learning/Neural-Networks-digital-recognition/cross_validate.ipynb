{
 "cells": [
  {
   "cell_type": "code",
   "execution_count": 1,
   "metadata": {
    "collapsed": false
   },
   "outputs": [
    {
     "name": "stdout",
     "output_type": "stream",
     "text": [
      "Populating the interactive namespace from numpy and matplotlib\n"
     ]
    },
    {
     "name": "stderr",
     "output_type": "stream",
     "text": [
      "D:\\Anaconda3\\lib\\site-packages\\sklearn\\cross_validation.py:44: DeprecationWarning: This module was deprecated in version 0.18 in favor of the model_selection module into which all the refactored classes and functions are moved. Also note that the interface of the new CV iterators are different from that of this module. This module will be removed in 0.20.\n",
      "  \"This module will be removed in 0.20.\", DeprecationWarning)\n"
     ]
    }
   ],
   "source": [
    "%pylab inline\n",
    "import gzip\n",
    "import pickle\n",
    "from sklearn import cross_validation\n",
    "from sklearn.externals import joblib"
   ]
  },
  {
   "cell_type": "code",
   "execution_count": 4,
   "metadata": {
    "collapsed": false
   },
   "outputs": [
    {
     "name": "stdout",
     "output_type": "stream",
     "text": [
      "Iteration 1, loss = 0.78187116\n",
      "Iteration 2, loss = 0.25388510\n",
      "Iteration 3, loss = 0.16955852\n",
      "Iteration 4, loss = 0.13240239\n",
      "Iteration 5, loss = 0.10025403\n",
      "Iteration 6, loss = 0.07594441\n",
      "Iteration 7, loss = 0.06047849\n",
      "Iteration 8, loss = 0.04637888\n",
      "Iteration 9, loss = 0.03677402\n",
      "Iteration 10, loss = 0.02490908\n"
     ]
    },
    {
     "name": "stderr",
     "output_type": "stream",
     "text": [
      "D:\\Anaconda3\\lib\\site-packages\\sklearn\\neural_network\\multilayer_perceptron.py:563: ConvergenceWarning: Stochastic Optimizer: Maximum iterations reached and the optimization hasn't converged yet.\n",
      "  % (), ConvergenceWarning)\n"
     ]
    },
    {
     "name": "stdout",
     "output_type": "stream",
     "text": [
      "Iteration 1, loss = 0.84187092\n",
      "Iteration 2, loss = 0.26000448\n",
      "Iteration 3, loss = 0.18066421\n",
      "Iteration 4, loss = 0.13851107\n",
      "Iteration 5, loss = 0.10065400\n",
      "Iteration 6, loss = 0.07659037\n",
      "Iteration 7, loss = 0.05990770\n",
      "Iteration 8, loss = 0.04579279\n",
      "Iteration 9, loss = 0.03313706\n",
      "Iteration 10, loss = 0.02731456\n"
     ]
    },
    {
     "name": "stderr",
     "output_type": "stream",
     "text": [
      "D:\\Anaconda3\\lib\\site-packages\\sklearn\\neural_network\\multilayer_perceptron.py:563: ConvergenceWarning: Stochastic Optimizer: Maximum iterations reached and the optimization hasn't converged yet.\n",
      "  % (), ConvergenceWarning)\n"
     ]
    },
    {
     "name": "stdout",
     "output_type": "stream",
     "text": [
      "Iteration 1, loss = 0.82356902\n",
      "Iteration 2, loss = 0.24284756\n",
      "Iteration 3, loss = 0.17153713\n",
      "Iteration 4, loss = 0.12699891\n",
      "Iteration 5, loss = 0.09540901\n",
      "Iteration 6, loss = 0.07154817\n",
      "Iteration 7, loss = 0.05675038\n",
      "Iteration 8, loss = 0.04283342\n",
      "Iteration 9, loss = 0.03224249\n",
      "Iteration 10, loss = 0.02570411\n"
     ]
    },
    {
     "name": "stderr",
     "output_type": "stream",
     "text": [
      "D:\\Anaconda3\\lib\\site-packages\\sklearn\\neural_network\\multilayer_perceptron.py:563: ConvergenceWarning: Stochastic Optimizer: Maximum iterations reached and the optimization hasn't converged yet.\n",
      "  % (), ConvergenceWarning)\n"
     ]
    },
    {
     "name": "stdout",
     "output_type": "stream",
     "text": [
      "Iteration 1, loss = 0.80319192\n",
      "Iteration 2, loss = 0.25151567\n",
      "Iteration 3, loss = 0.17903346\n",
      "Iteration 4, loss = 0.13283187\n",
      "Iteration 5, loss = 0.10542308\n",
      "Iteration 6, loss = 0.08350177\n",
      "Iteration 7, loss = 0.06375461\n",
      "Iteration 8, loss = 0.04551676\n",
      "Iteration 9, loss = 0.03702495\n",
      "Iteration 10, loss = 0.03019770\n"
     ]
    },
    {
     "name": "stderr",
     "output_type": "stream",
     "text": [
      "D:\\Anaconda3\\lib\\site-packages\\sklearn\\neural_network\\multilayer_perceptron.py:563: ConvergenceWarning: Stochastic Optimizer: Maximum iterations reached and the optimization hasn't converged yet.\n",
      "  % (), ConvergenceWarning)\n"
     ]
    },
    {
     "name": "stdout",
     "output_type": "stream",
     "text": [
      "Iteration 1, loss = 0.82339307\n",
      "Iteration 2, loss = 0.25696178\n",
      "Iteration 3, loss = 0.18196441\n",
      "Iteration 4, loss = 0.13706206\n",
      "Iteration 5, loss = 0.10864025\n",
      "Iteration 6, loss = 0.08161445\n",
      "Iteration 7, loss = 0.06482672\n",
      "Iteration 8, loss = 0.04893842\n",
      "Iteration 9, loss = 0.03598496\n",
      "Iteration 10, loss = 0.02949324\n"
     ]
    },
    {
     "name": "stderr",
     "output_type": "stream",
     "text": [
      "D:\\Anaconda3\\lib\\site-packages\\sklearn\\neural_network\\multilayer_perceptron.py:563: ConvergenceWarning: Stochastic Optimizer: Maximum iterations reached and the optimization hasn't converged yet.\n",
      "  % (), ConvergenceWarning)\n"
     ]
    },
    {
     "name": "stdout",
     "output_type": "stream",
     "text": [
      "Iteration 1, loss = 0.81738844\n",
      "Iteration 2, loss = 0.25368526\n",
      "Iteration 3, loss = 1.15094211\n",
      "Iteration 4, loss = 0.25568068\n",
      "Iteration 5, loss = 0.18752010\n",
      "Iteration 6, loss = 0.13994125\n",
      "Iteration 7, loss = 0.12223943\n",
      "Iteration 8, loss = 0.12960278\n",
      "Iteration 9, loss = 0.09046564\n",
      "Iteration 10, loss = 0.07748831\n",
      "Iteration 1, loss = 0.82438630\n"
     ]
    },
    {
     "name": "stderr",
     "output_type": "stream",
     "text": [
      "D:\\Anaconda3\\lib\\site-packages\\sklearn\\neural_network\\multilayer_perceptron.py:563: ConvergenceWarning: Stochastic Optimizer: Maximum iterations reached and the optimization hasn't converged yet.\n",
      "  % (), ConvergenceWarning)\n"
     ]
    },
    {
     "name": "stdout",
     "output_type": "stream",
     "text": [
      "Iteration 2, loss = 0.25874840\n",
      "Iteration 3, loss = 1.01485889\n",
      "Iteration 4, loss = 0.23356027\n",
      "Iteration 5, loss = 0.17288887\n",
      "Iteration 6, loss = 0.13914482\n",
      "Iteration 7, loss = 0.11251162\n",
      "Iteration 8, loss = 0.10111344\n",
      "Iteration 9, loss = 0.08639655\n",
      "Iteration 10, loss = 0.07165107\n",
      "Iteration 1, loss = 0.81457274\n"
     ]
    },
    {
     "name": "stderr",
     "output_type": "stream",
     "text": [
      "D:\\Anaconda3\\lib\\site-packages\\sklearn\\neural_network\\multilayer_perceptron.py:563: ConvergenceWarning: Stochastic Optimizer: Maximum iterations reached and the optimization hasn't converged yet.\n",
      "  % (), ConvergenceWarning)\n"
     ]
    },
    {
     "name": "stdout",
     "output_type": "stream",
     "text": [
      "Iteration 2, loss = 0.25901173\n",
      "Iteration 3, loss = 0.78948227\n",
      "Iteration 4, loss = 0.22246483\n",
      "Iteration 5, loss = 0.16539281\n",
      "Iteration 6, loss = 0.13721071\n",
      "Iteration 7, loss = 0.79746186\n",
      "Iteration 8, loss = 0.25221474\n",
      "Iteration 9, loss = 0.39058177\n",
      "Training loss did not improve more than tol=0.000100 for two consecutive epochs. Stopping.\n",
      "Iteration 1, loss = 0.83040680\n",
      "Iteration 2, loss = 0.26367480\n",
      "Iteration 3, loss = 1.00381224\n",
      "Iteration 4, loss = 0.25186480\n",
      "Iteration 5, loss = 0.19493333\n",
      "Iteration 6, loss = 0.15539808\n",
      "Iteration 7, loss = 0.66227258\n",
      "Iteration 8, loss = 0.23923389\n",
      "Iteration 9, loss = 0.52421580\n",
      "Training loss did not improve more than tol=0.000100 for two consecutive epochs. Stopping.\n",
      "Iteration 1, loss = 0.83035768\n",
      "Iteration 2, loss = 0.25720301\n",
      "Iteration 3, loss = 0.82076672\n",
      "Iteration 4, loss = 0.23261915\n",
      "Iteration 5, loss = 0.15946379\n",
      "Iteration 6, loss = 0.12189619\n",
      "Iteration 7, loss = 0.18415185\n",
      "Iteration 8, loss = 0.09925235\n",
      "Iteration 9, loss = 0.11875773\n",
      "Iteration 10, loss = 0.06922819\n"
     ]
    },
    {
     "name": "stderr",
     "output_type": "stream",
     "text": [
      "D:\\Anaconda3\\lib\\site-packages\\sklearn\\neural_network\\multilayer_perceptron.py:563: ConvergenceWarning: Stochastic Optimizer: Maximum iterations reached and the optimization hasn't converged yet.\n",
      "  % (), ConvergenceWarning)\n"
     ]
    }
   ],
   "source": [
    "# 载入数据\n",
    "with gzip.open('./mnist.pkl.gz', 'rb') as fp:\n",
    "    training_data,valid_data,test_data = pickle.load(fp,encoding='latin1')\n",
    "x,y = valid_data\n",
    "#载入模型\n",
    "model = joblib.load('model1.pickle')\n",
    "# 交叉验证，用准确率(accuracy)作为指标,交叉倍率k-fold 为 10倍\n",
    "\n",
    "score = cross_validation.cross_val_score(model, x,y , cv=10, scoring='accuracy')"
   ]
  },
  {
   "cell_type": "code",
   "execution_count": 5,
   "metadata": {
    "collapsed": false
   },
   "outputs": [
    {
     "data": {
      "text/plain": [
       "array([ 0.94223108,  0.95508982,  0.91317365,  0.95004995,  0.948     ,\n",
       "        0.92692693,  0.94194194,  0.91583166,  0.9258517 ,  0.95687061])"
      ]
     },
     "execution_count": 5,
     "metadata": {},
     "output_type": "execute_result"
    }
   ],
   "source": [
    "# 得到一个scores的预测准确率数组\n",
    "score"
   ]
  },
  {
   "cell_type": "code",
   "execution_count": 6,
   "metadata": {
    "collapsed": false
   },
   "outputs": [
    {
     "name": "stdout",
     "output_type": "stream",
     "text": [
      "Accuracy: 0.94 (+/- 0.03)\n"
     ]
    }
   ],
   "source": [
    "print(\"Accuracy: %0.2f (+/- %0.2f)\" % (score.mean(), score.std() * 2))"
   ]
  },
  {
   "cell_type": "code",
   "execution_count": 7,
   "metadata": {
    "collapsed": false
   },
   "outputs": [
    {
     "name": "stdout",
     "output_type": "stream",
     "text": [
      "Iteration 1, loss = 2.16234521\n",
      "Iteration 2, loss = 1.39525089\n"
     ]
    },
    {
     "name": "stderr",
     "output_type": "stream",
     "text": [
      "D:\\Anaconda3\\lib\\site-packages\\sklearn\\learning_curve.py:23: DeprecationWarning: This module was deprecated in version 0.18 in favor of the model_selection module into which all the functions are moved. This module will be removed in 0.20\n",
      "  DeprecationWarning)\n"
     ]
    },
    {
     "name": "stdout",
     "output_type": "stream",
     "text": [
      "Iteration 3, loss = 0.76439142\n",
      "Iteration 4, loss = 0.45542935\n",
      "Iteration 5, loss = 0.28384867\n",
      "Iteration 6, loss = 0.22150051\n",
      "Iteration 7, loss = 0.16080946\n",
      "Iteration 8, loss = 0.09847794\n",
      "Iteration 9, loss = 0.07672188\n",
      "Iteration 10, loss = 0.05843624\n",
      "Iteration 1, loss = 1.75060450\n",
      "Iteration 2, loss = 0.69644604\n"
     ]
    },
    {
     "name": "stderr",
     "output_type": "stream",
     "text": [
      "D:\\Anaconda3\\lib\\site-packages\\sklearn\\neural_network\\multilayer_perceptron.py:563: ConvergenceWarning: Stochastic Optimizer: Maximum iterations reached and the optimization hasn't converged yet.\n",
      "  % (), ConvergenceWarning)\n"
     ]
    },
    {
     "name": "stdout",
     "output_type": "stream",
     "text": [
      "Iteration 3, loss = 0.39784156\n",
      "Iteration 4, loss = 0.29058588\n",
      "Iteration 5, loss = 0.21158317\n",
      "Iteration 6, loss = 0.16391721\n",
      "Iteration 7, loss = 0.12268283\n",
      "Iteration 8, loss = 0.09531558\n",
      "Iteration 9, loss = 0.07535034\n",
      "Iteration 10, loss = 0.06059414\n"
     ]
    },
    {
     "name": "stderr",
     "output_type": "stream",
     "text": [
      "D:\\Anaconda3\\lib\\site-packages\\sklearn\\neural_network\\multilayer_perceptron.py:563: ConvergenceWarning: Stochastic Optimizer: Maximum iterations reached and the optimization hasn't converged yet.\n",
      "  % (), ConvergenceWarning)\n"
     ]
    },
    {
     "name": "stdout",
     "output_type": "stream",
     "text": [
      "Iteration 1, loss = 1.27510630\n",
      "Iteration 2, loss = 0.38422172\n",
      "Iteration 3, loss = 0.26058371\n",
      "Iteration 4, loss = 0.19015472\n",
      "Iteration 5, loss = 0.14916225\n",
      "Iteration 6, loss = 0.11217251\n",
      "Iteration 7, loss = 0.08964414\n",
      "Iteration 8, loss = 0.06752874\n",
      "Iteration 9, loss = 0.05173431\n",
      "Iteration 10, loss = 0.03548834\n"
     ]
    },
    {
     "name": "stderr",
     "output_type": "stream",
     "text": [
      "D:\\Anaconda3\\lib\\site-packages\\sklearn\\neural_network\\multilayer_perceptron.py:563: ConvergenceWarning: Stochastic Optimizer: Maximum iterations reached and the optimization hasn't converged yet.\n",
      "  % (), ConvergenceWarning)\n"
     ]
    },
    {
     "name": "stdout",
     "output_type": "stream",
     "text": [
      "Iteration 1, loss = 1.00107727\n",
      "Iteration 2, loss = 0.30418627\n",
      "Iteration 3, loss = 0.22261019\n",
      "Iteration 4, loss = 0.16506052\n",
      "Iteration 5, loss = 0.12553921\n",
      "Iteration 6, loss = 0.09968461\n",
      "Iteration 7, loss = 0.07301909\n",
      "Iteration 8, loss = 0.05305705\n",
      "Iteration 9, loss = 0.04380569\n",
      "Iteration 10, loss = 0.03318207\n"
     ]
    },
    {
     "name": "stderr",
     "output_type": "stream",
     "text": [
      "D:\\Anaconda3\\lib\\site-packages\\sklearn\\neural_network\\multilayer_perceptron.py:563: ConvergenceWarning: Stochastic Optimizer: Maximum iterations reached and the optimization hasn't converged yet.\n",
      "  % (), ConvergenceWarning)\n"
     ]
    },
    {
     "name": "stdout",
     "output_type": "stream",
     "text": [
      "Iteration 1, loss = 0.78187116\n",
      "Iteration 2, loss = 0.25388510\n",
      "Iteration 3, loss = 0.16955852\n",
      "Iteration 4, loss = 0.13240239\n",
      "Iteration 5, loss = 0.10025403\n",
      "Iteration 6, loss = 0.07594441\n",
      "Iteration 7, loss = 0.06047849\n",
      "Iteration 8, loss = 0.04637888\n",
      "Iteration 9, loss = 0.03677402\n",
      "Iteration 10, loss = 0.02490908\n"
     ]
    },
    {
     "name": "stderr",
     "output_type": "stream",
     "text": [
      "D:\\Anaconda3\\lib\\site-packages\\sklearn\\neural_network\\multilayer_perceptron.py:563: ConvergenceWarning: Stochastic Optimizer: Maximum iterations reached and the optimization hasn't converged yet.\n",
      "  % (), ConvergenceWarning)\n"
     ]
    },
    {
     "name": "stdout",
     "output_type": "stream",
     "text": [
      "Iteration 1, loss = 2.19753486\n",
      "Iteration 2, loss = 1.54314408\n",
      "Iteration 3, loss = 0.98675974\n",
      "Iteration 4, loss = 0.60762570\n",
      "Iteration 5, loss = 0.44343678\n",
      "Iteration 6, loss = 0.32024609\n",
      "Iteration 7, loss = 0.23976259\n",
      "Iteration 8, loss = 0.18756953\n",
      "Iteration 9, loss = 0.14479318\n",
      "Iteration 10, loss = 0.12453985\n",
      "Iteration 1, loss = 1.75849645\n",
      "Iteration 2, loss = 0.83352538\n",
      "Iteration 3, loss = 0.43310897\n"
     ]
    },
    {
     "name": "stderr",
     "output_type": "stream",
     "text": [
      "D:\\Anaconda3\\lib\\site-packages\\sklearn\\neural_network\\multilayer_perceptron.py:563: ConvergenceWarning: Stochastic Optimizer: Maximum iterations reached and the optimization hasn't converged yet.\n",
      "  % (), ConvergenceWarning)\n"
     ]
    },
    {
     "name": "stdout",
     "output_type": "stream",
     "text": [
      "Iteration 4, loss = 0.31902247\n",
      "Iteration 5, loss = 0.24905543\n",
      "Iteration 6, loss = 0.20788410\n",
      "Iteration 7, loss = 0.15775448\n",
      "Iteration 8, loss = 0.12920742\n",
      "Iteration 9, loss = 0.09537131\n",
      "Iteration 10, loss = 0.07162782\n"
     ]
    },
    {
     "name": "stderr",
     "output_type": "stream",
     "text": [
      "D:\\Anaconda3\\lib\\site-packages\\sklearn\\neural_network\\multilayer_perceptron.py:563: ConvergenceWarning: Stochastic Optimizer: Maximum iterations reached and the optimization hasn't converged yet.\n",
      "  % (), ConvergenceWarning)\n"
     ]
    },
    {
     "name": "stdout",
     "output_type": "stream",
     "text": [
      "Iteration 1, loss = 1.24904164\n",
      "Iteration 2, loss = 0.44540982\n",
      "Iteration 3, loss = 0.28849654\n",
      "Iteration 4, loss = 0.21581374\n",
      "Iteration 5, loss = 0.17587408\n",
      "Iteration 6, loss = 0.13433313\n",
      "Iteration 7, loss = 0.10394670\n",
      "Iteration 8, loss = 0.07836265\n",
      "Iteration 9, loss = 0.06137090\n",
      "Iteration 10, loss = 0.04278865\n"
     ]
    },
    {
     "name": "stderr",
     "output_type": "stream",
     "text": [
      "D:\\Anaconda3\\lib\\site-packages\\sklearn\\neural_network\\multilayer_perceptron.py:563: ConvergenceWarning: Stochastic Optimizer: Maximum iterations reached and the optimization hasn't converged yet.\n",
      "  % (), ConvergenceWarning)\n"
     ]
    },
    {
     "name": "stdout",
     "output_type": "stream",
     "text": [
      "Iteration 1, loss = 0.98434583\n",
      "Iteration 2, loss = 0.33796018\n",
      "Iteration 3, loss = 0.22436210\n",
      "Iteration 4, loss = 0.17315177\n",
      "Iteration 5, loss = 0.13051203\n",
      "Iteration 6, loss = 0.10374355\n",
      "Iteration 7, loss = 0.07904730\n",
      "Iteration 8, loss = 0.05511370\n",
      "Iteration 9, loss = 0.04291312\n",
      "Iteration 10, loss = 0.02867291\n"
     ]
    },
    {
     "name": "stderr",
     "output_type": "stream",
     "text": [
      "D:\\Anaconda3\\lib\\site-packages\\sklearn\\neural_network\\multilayer_perceptron.py:563: ConvergenceWarning: Stochastic Optimizer: Maximum iterations reached and the optimization hasn't converged yet.\n",
      "  % (), ConvergenceWarning)\n"
     ]
    },
    {
     "name": "stdout",
     "output_type": "stream",
     "text": [
      "Iteration 1, loss = 0.82400335\n",
      "Iteration 2, loss = 0.25945869\n",
      "Iteration 3, loss = 0.18018568\n",
      "Iteration 4, loss = 0.13052835\n",
      "Iteration 5, loss = 0.09828557\n",
      "Iteration 6, loss = 0.07558895\n",
      "Iteration 7, loss = 0.06001946\n",
      "Iteration 8, loss = 0.04326780\n",
      "Iteration 9, loss = 0.03497892\n",
      "Iteration 10, loss = 0.02263775\n",
      "Iteration 1, loss = 2.19753486\n",
      "Iteration 2, loss = 1.54314408\n",
      "Iteration 3, loss = 0.98675974\n",
      "Iteration 4, loss = 0.60762570\n",
      "Iteration 5, loss = 0.44343678\n",
      "Iteration 6, loss = 0.32024609\n"
     ]
    },
    {
     "name": "stderr",
     "output_type": "stream",
     "text": [
      "D:\\Anaconda3\\lib\\site-packages\\sklearn\\neural_network\\multilayer_perceptron.py:563: ConvergenceWarning: Stochastic Optimizer: Maximum iterations reached and the optimization hasn't converged yet.\n",
      "  % (), ConvergenceWarning)\n"
     ]
    },
    {
     "name": "stdout",
     "output_type": "stream",
     "text": [
      "Iteration 7, loss = 0.23976259\n",
      "Iteration 8, loss = 0.18756953\n",
      "Iteration 9, loss = 0.14479318\n",
      "Iteration 10, loss = 0.12453985\n",
      "Iteration 1, loss = 1.73762422\n",
      "Iteration 2, loss = 0.71349080\n"
     ]
    },
    {
     "name": "stderr",
     "output_type": "stream",
     "text": [
      "D:\\Anaconda3\\lib\\site-packages\\sklearn\\neural_network\\multilayer_perceptron.py:563: ConvergenceWarning: Stochastic Optimizer: Maximum iterations reached and the optimization hasn't converged yet.\n",
      "  % (), ConvergenceWarning)\n"
     ]
    },
    {
     "name": "stdout",
     "output_type": "stream",
     "text": [
      "Iteration 3, loss = 0.36731060\n",
      "Iteration 4, loss = 0.24303032\n",
      "Iteration 5, loss = 0.19761464\n",
      "Iteration 6, loss = 0.14383139\n",
      "Iteration 7, loss = 0.11151771\n",
      "Iteration 8, loss = 0.08367673\n",
      "Iteration 9, loss = 0.06385257\n",
      "Iteration 10, loss = 0.04599619\n"
     ]
    },
    {
     "name": "stderr",
     "output_type": "stream",
     "text": [
      "D:\\Anaconda3\\lib\\site-packages\\sklearn\\neural_network\\multilayer_perceptron.py:563: ConvergenceWarning: Stochastic Optimizer: Maximum iterations reached and the optimization hasn't converged yet.\n",
      "  % (), ConvergenceWarning)\n"
     ]
    },
    {
     "name": "stdout",
     "output_type": "stream",
     "text": [
      "Iteration 1, loss = 1.32015122\n",
      "Iteration 2, loss = 0.39880178\n",
      "Iteration 3, loss = 0.26532128\n",
      "Iteration 4, loss = 0.19661938\n",
      "Iteration 5, loss = 0.15439904\n",
      "Iteration 6, loss = 0.11932913\n",
      "Iteration 7, loss = 0.09234866\n",
      "Iteration 8, loss = 0.06945134\n",
      "Iteration 9, loss = 0.05181438\n",
      "Iteration 10, loss = 0.03889063\n"
     ]
    },
    {
     "name": "stderr",
     "output_type": "stream",
     "text": [
      "D:\\Anaconda3\\lib\\site-packages\\sklearn\\neural_network\\multilayer_perceptron.py:563: ConvergenceWarning: Stochastic Optimizer: Maximum iterations reached and the optimization hasn't converged yet.\n",
      "  % (), ConvergenceWarning)\n"
     ]
    },
    {
     "name": "stdout",
     "output_type": "stream",
     "text": [
      "Iteration 1, loss = 0.97007927\n",
      "Iteration 2, loss = 0.29845584\n",
      "Iteration 3, loss = 0.20254406\n",
      "Iteration 4, loss = 0.15491243\n",
      "Iteration 5, loss = 0.11462142\n",
      "Iteration 6, loss = 0.09078088\n",
      "Iteration 7, loss = 0.07017862\n",
      "Iteration 8, loss = 0.05102731\n",
      "Iteration 9, loss = 0.03907040\n",
      "Iteration 10, loss = 0.02937477\n"
     ]
    },
    {
     "name": "stderr",
     "output_type": "stream",
     "text": [
      "D:\\Anaconda3\\lib\\site-packages\\sklearn\\neural_network\\multilayer_perceptron.py:563: ConvergenceWarning: Stochastic Optimizer: Maximum iterations reached and the optimization hasn't converged yet.\n",
      "  % (), ConvergenceWarning)\n"
     ]
    },
    {
     "name": "stdout",
     "output_type": "stream",
     "text": [
      "Iteration 1, loss = 0.83109361\n",
      "Iteration 2, loss = 0.24353905\n",
      "Iteration 3, loss = 0.16525866\n",
      "Iteration 4, loss = 0.11980748\n",
      "Iteration 5, loss = 0.08934436\n",
      "Iteration 6, loss = 0.07100511\n",
      "Iteration 7, loss = 0.05496481\n",
      "Iteration 8, loss = 0.04479567\n",
      "Iteration 9, loss = 0.03132412\n",
      "Iteration 10, loss = 0.02639528\n",
      "Iteration 1, loss = 2.19753486\n",
      "Iteration 2, loss = 1.54314408\n",
      "Iteration 3, loss = 0.98675974\n",
      "Iteration 4, loss = 0.60762570\n",
      "Iteration 5, loss = 0.44343678\n"
     ]
    },
    {
     "name": "stderr",
     "output_type": "stream",
     "text": [
      "D:\\Anaconda3\\lib\\site-packages\\sklearn\\neural_network\\multilayer_perceptron.py:563: ConvergenceWarning: Stochastic Optimizer: Maximum iterations reached and the optimization hasn't converged yet.\n",
      "  % (), ConvergenceWarning)\n"
     ]
    },
    {
     "name": "stdout",
     "output_type": "stream",
     "text": [
      "Iteration 6, loss = 0.32024609\n",
      "Iteration 7, loss = 0.23976259\n",
      "Iteration 8, loss = 0.18756953\n",
      "Iteration 9, loss = 0.14479318\n",
      "Iteration 10, loss = 0.12453985\n",
      "Iteration 1, loss = 1.76236579\n",
      "Iteration 2, loss = 0.68918246\n"
     ]
    },
    {
     "name": "stderr",
     "output_type": "stream",
     "text": [
      "D:\\Anaconda3\\lib\\site-packages\\sklearn\\neural_network\\multilayer_perceptron.py:563: ConvergenceWarning: Stochastic Optimizer: Maximum iterations reached and the optimization hasn't converged yet.\n",
      "  % (), ConvergenceWarning)\n"
     ]
    },
    {
     "name": "stdout",
     "output_type": "stream",
     "text": [
      "Iteration 3, loss = 0.37559278\n",
      "Iteration 4, loss = 0.26626466\n",
      "Iteration 5, loss = 0.20200529\n",
      "Iteration 6, loss = 0.16245522\n",
      "Iteration 7, loss = 0.12048935\n",
      "Iteration 8, loss = 0.09836368\n",
      "Iteration 9, loss = 0.07269702\n",
      "Iteration 10, loss = 0.05698689\n"
     ]
    },
    {
     "name": "stderr",
     "output_type": "stream",
     "text": [
      "D:\\Anaconda3\\lib\\site-packages\\sklearn\\neural_network\\multilayer_perceptron.py:563: ConvergenceWarning: Stochastic Optimizer: Maximum iterations reached and the optimization hasn't converged yet.\n",
      "  % (), ConvergenceWarning)\n"
     ]
    },
    {
     "name": "stdout",
     "output_type": "stream",
     "text": [
      "Iteration 1, loss = 1.37230731\n",
      "Iteration 2, loss = 0.43416639\n",
      "Iteration 3, loss = 0.27931529\n",
      "Iteration 4, loss = 0.20204367\n",
      "Iteration 5, loss = 0.15113129\n",
      "Iteration 6, loss = 0.12601466\n",
      "Iteration 7, loss = 0.08811592\n",
      "Iteration 8, loss = 0.06920111\n",
      "Iteration 9, loss = 0.04975573\n",
      "Iteration 10, loss = 0.03743508\n",
      "Iteration 1, loss = 1.01156174\n"
     ]
    },
    {
     "name": "stderr",
     "output_type": "stream",
     "text": [
      "D:\\Anaconda3\\lib\\site-packages\\sklearn\\neural_network\\multilayer_perceptron.py:563: ConvergenceWarning: Stochastic Optimizer: Maximum iterations reached and the optimization hasn't converged yet.\n",
      "  % (), ConvergenceWarning)\n"
     ]
    },
    {
     "name": "stdout",
     "output_type": "stream",
     "text": [
      "Iteration 2, loss = 0.31302025\n",
      "Iteration 3, loss = 0.21761332\n",
      "Iteration 4, loss = 0.16898564\n",
      "Iteration 5, loss = 0.12392184\n",
      "Iteration 6, loss = 0.09119992\n",
      "Iteration 7, loss = 0.07497565\n",
      "Iteration 8, loss = 0.05517513\n",
      "Iteration 9, loss = 0.03923757\n",
      "Iteration 10, loss = 0.03047696\n"
     ]
    },
    {
     "name": "stderr",
     "output_type": "stream",
     "text": [
      "D:\\Anaconda3\\lib\\site-packages\\sklearn\\neural_network\\multilayer_perceptron.py:563: ConvergenceWarning: Stochastic Optimizer: Maximum iterations reached and the optimization hasn't converged yet.\n",
      "  % (), ConvergenceWarning)\n"
     ]
    },
    {
     "name": "stdout",
     "output_type": "stream",
     "text": [
      "Iteration 1, loss = 0.81210365\n",
      "Iteration 2, loss = 0.25181047\n",
      "Iteration 3, loss = 0.18210693\n",
      "Iteration 4, loss = 0.13449020\n",
      "Iteration 5, loss = 0.10105392\n",
      "Iteration 6, loss = 0.07959972\n",
      "Iteration 7, loss = 0.06183630\n",
      "Iteration 8, loss = 0.04501858\n",
      "Iteration 9, loss = 0.03330106\n",
      "Iteration 10, loss = 0.02616531\n",
      "Iteration 1, loss = 2.19753486\n",
      "Iteration 2, loss = 1.54314408\n",
      "Iteration 3, loss = 0.98675974\n",
      "Iteration 4, loss = 0.60762570\n",
      "Iteration 5, loss = 0.44343678\n",
      "Iteration 6, loss = 0.32024609\n",
      "Iteration 7, loss = 0.23976259\n"
     ]
    },
    {
     "name": "stderr",
     "output_type": "stream",
     "text": [
      "D:\\Anaconda3\\lib\\site-packages\\sklearn\\neural_network\\multilayer_perceptron.py:563: ConvergenceWarning: Stochastic Optimizer: Maximum iterations reached and the optimization hasn't converged yet.\n",
      "  % (), ConvergenceWarning)\n"
     ]
    },
    {
     "name": "stdout",
     "output_type": "stream",
     "text": [
      "Iteration 8, loss = 0.18756953\n",
      "Iteration 9, loss = 0.14479318\n",
      "Iteration 10, loss = 0.12453985\n",
      "Iteration 1, loss = 1.76236579\n",
      "Iteration 2, loss = 0.68918246\n",
      "Iteration 3, loss = 0.37559278\n"
     ]
    },
    {
     "name": "stderr",
     "output_type": "stream",
     "text": [
      "D:\\Anaconda3\\lib\\site-packages\\sklearn\\neural_network\\multilayer_perceptron.py:563: ConvergenceWarning: Stochastic Optimizer: Maximum iterations reached and the optimization hasn't converged yet.\n",
      "  % (), ConvergenceWarning)\n"
     ]
    },
    {
     "name": "stdout",
     "output_type": "stream",
     "text": [
      "Iteration 4, loss = 0.26626466\n",
      "Iteration 5, loss = 0.20200529\n",
      "Iteration 6, loss = 0.16245522\n",
      "Iteration 7, loss = 0.12048935\n",
      "Iteration 8, loss = 0.09836368\n",
      "Iteration 9, loss = 0.07269702\n",
      "Iteration 10, loss = 0.05698689\n",
      "Iteration 1, loss = 1.40455534\n"
     ]
    },
    {
     "name": "stderr",
     "output_type": "stream",
     "text": [
      "D:\\Anaconda3\\lib\\site-packages\\sklearn\\neural_network\\multilayer_perceptron.py:563: ConvergenceWarning: Stochastic Optimizer: Maximum iterations reached and the optimization hasn't converged yet.\n",
      "  % (), ConvergenceWarning)\n"
     ]
    },
    {
     "name": "stdout",
     "output_type": "stream",
     "text": [
      "Iteration 2, loss = 0.44711574\n",
      "Iteration 3, loss = 0.29097536\n",
      "Iteration 4, loss = 0.21783465\n",
      "Iteration 5, loss = 0.16918544\n",
      "Iteration 6, loss = 0.13507056\n",
      "Iteration 7, loss = 0.10530137\n",
      "Iteration 8, loss = 0.08116109\n",
      "Iteration 9, loss = 0.05859452\n",
      "Iteration 10, loss = 0.04298089\n",
      "Iteration 1, loss = 0.99209277\n"
     ]
    },
    {
     "name": "stderr",
     "output_type": "stream",
     "text": [
      "D:\\Anaconda3\\lib\\site-packages\\sklearn\\neural_network\\multilayer_perceptron.py:563: ConvergenceWarning: Stochastic Optimizer: Maximum iterations reached and the optimization hasn't converged yet.\n",
      "  % (), ConvergenceWarning)\n"
     ]
    },
    {
     "name": "stdout",
     "output_type": "stream",
     "text": [
      "Iteration 2, loss = 0.30908262\n",
      "Iteration 3, loss = 0.22304977\n",
      "Iteration 4, loss = 0.16646772\n",
      "Iteration 5, loss = 0.13228428\n",
      "Iteration 6, loss = 0.10005274\n",
      "Iteration 7, loss = 0.07785912\n",
      "Iteration 8, loss = 0.05641814\n",
      "Iteration 9, loss = 0.04254776\n",
      "Iteration 10, loss = 0.03414474\n"
     ]
    },
    {
     "name": "stderr",
     "output_type": "stream",
     "text": [
      "D:\\Anaconda3\\lib\\site-packages\\sklearn\\neural_network\\multilayer_perceptron.py:563: ConvergenceWarning: Stochastic Optimizer: Maximum iterations reached and the optimization hasn't converged yet.\n",
      "  % (), ConvergenceWarning)\n"
     ]
    },
    {
     "name": "stdout",
     "output_type": "stream",
     "text": [
      "Iteration 1, loss = 0.84388829\n",
      "Iteration 2, loss = 0.25699326\n",
      "Iteration 3, loss = 0.17917552\n",
      "Iteration 4, loss = 0.13574808\n",
      "Iteration 5, loss = 0.10260718\n",
      "Iteration 6, loss = 0.08196382\n",
      "Iteration 7, loss = 0.06122960\n",
      "Iteration 8, loss = 0.04654568\n",
      "Iteration 9, loss = 0.03599603\n",
      "Iteration 10, loss = 0.02739421\n"
     ]
    },
    {
     "name": "stderr",
     "output_type": "stream",
     "text": [
      "D:\\Anaconda3\\lib\\site-packages\\sklearn\\neural_network\\multilayer_perceptron.py:563: ConvergenceWarning: Stochastic Optimizer: Maximum iterations reached and the optimization hasn't converged yet.\n",
      "  % (), ConvergenceWarning)\n"
     ]
    },
    {
     "name": "stdout",
     "output_type": "stream",
     "text": [
      "Iteration 1, loss = 2.19753486\n",
      "Iteration 2, loss = 1.54314408\n",
      "Iteration 3, loss = 0.98675974\n",
      "Iteration 4, loss = 0.60762570\n",
      "Iteration 5, loss = 0.44343678\n",
      "Iteration 6, loss = 0.32024609\n",
      "Iteration 7, loss = 0.23976259\n",
      "Iteration 8, loss = 0.18756953\n",
      "Iteration 9, loss = 0.14479318\n",
      "Iteration 10, loss = 0.12453985\n"
     ]
    },
    {
     "name": "stderr",
     "output_type": "stream",
     "text": [
      "D:\\Anaconda3\\lib\\site-packages\\sklearn\\neural_network\\multilayer_perceptron.py:563: ConvergenceWarning: Stochastic Optimizer: Maximum iterations reached and the optimization hasn't converged yet.\n",
      "  % (), ConvergenceWarning)\n"
     ]
    },
    {
     "name": "stdout",
     "output_type": "stream",
     "text": [
      "Iteration 1, loss = 1.76236579\n",
      "Iteration 2, loss = 0.68918246\n",
      "Iteration 3, loss = 0.37559278\n",
      "Iteration 4, loss = 0.26626466\n",
      "Iteration 5, loss = 0.20200529\n",
      "Iteration 6, loss = 0.16245522\n",
      "Iteration 7, loss = 0.12048935\n",
      "Iteration 8, loss = 0.09836368\n",
      "Iteration 9, loss = 0.07269702\n",
      "Iteration 10, loss = 0.05698689\n"
     ]
    },
    {
     "name": "stderr",
     "output_type": "stream",
     "text": [
      "D:\\Anaconda3\\lib\\site-packages\\sklearn\\neural_network\\multilayer_perceptron.py:563: ConvergenceWarning: Stochastic Optimizer: Maximum iterations reached and the optimization hasn't converged yet.\n",
      "  % (), ConvergenceWarning)\n"
     ]
    },
    {
     "name": "stdout",
     "output_type": "stream",
     "text": [
      "Iteration 1, loss = 1.29896116\n",
      "Iteration 2, loss = 0.39703487\n",
      "Iteration 3, loss = 0.26492047\n",
      "Iteration 4, loss = 0.20348830\n",
      "Iteration 5, loss = 0.15320242\n",
      "Iteration 6, loss = 0.11910508\n",
      "Iteration 7, loss = 0.08946200\n",
      "Iteration 8, loss = 0.06924719\n",
      "Iteration 9, loss = 0.04948867\n",
      "Iteration 10, loss = 0.03593538\n",
      "Iteration 1, loss = 1.00864956\n"
     ]
    },
    {
     "name": "stderr",
     "output_type": "stream",
     "text": [
      "D:\\Anaconda3\\lib\\site-packages\\sklearn\\neural_network\\multilayer_perceptron.py:563: ConvergenceWarning: Stochastic Optimizer: Maximum iterations reached and the optimization hasn't converged yet.\n",
      "  % (), ConvergenceWarning)\n"
     ]
    },
    {
     "name": "stdout",
     "output_type": "stream",
     "text": [
      "Iteration 2, loss = 0.31490112\n",
      "Iteration 3, loss = 0.22262727\n",
      "Iteration 4, loss = 0.17291961\n",
      "Iteration 5, loss = 0.13377426\n",
      "Iteration 6, loss = 0.10207598\n",
      "Iteration 7, loss = 0.07711785\n",
      "Iteration 8, loss = 0.05479024\n",
      "Iteration 9, loss = 0.03684906\n",
      "Iteration 10, loss = 0.03072051\n"
     ]
    },
    {
     "name": "stderr",
     "output_type": "stream",
     "text": [
      "D:\\Anaconda3\\lib\\site-packages\\sklearn\\neural_network\\multilayer_perceptron.py:563: ConvergenceWarning: Stochastic Optimizer: Maximum iterations reached and the optimization hasn't converged yet.\n",
      "  % (), ConvergenceWarning)\n"
     ]
    },
    {
     "name": "stdout",
     "output_type": "stream",
     "text": [
      "Iteration 1, loss = 0.82621784\n",
      "Iteration 2, loss = 0.25661650\n",
      "Iteration 3, loss = 0.18073473\n",
      "Iteration 4, loss = 0.13184292\n",
      "Iteration 5, loss = 0.10015016\n",
      "Iteration 6, loss = 0.07649430\n",
      "Iteration 7, loss = 0.05869316\n",
      "Iteration 8, loss = 0.04204414\n",
      "Iteration 9, loss = 0.03382942\n",
      "Iteration 10, loss = 0.02457005\n"
     ]
    },
    {
     "name": "stderr",
     "output_type": "stream",
     "text": [
      "D:\\Anaconda3\\lib\\site-packages\\sklearn\\neural_network\\multilayer_perceptron.py:563: ConvergenceWarning: Stochastic Optimizer: Maximum iterations reached and the optimization hasn't converged yet.\n",
      "  % (), ConvergenceWarning)\n"
     ]
    },
    {
     "name": "stdout",
     "output_type": "stream",
     "text": [
      "Iteration 1, loss = 2.19753486\n",
      "Iteration 2, loss = 1.54314408\n",
      "Iteration 3, loss = 0.98675974\n",
      "Iteration 4, loss = 0.60762570\n",
      "Iteration 5, loss = 0.44343678\n",
      "Iteration 6, loss = 0.32024609\n",
      "Iteration 7, loss = 0.23976259\n",
      "Iteration 8, loss = 0.18756953\n",
      "Iteration 9, loss = 0.14479318\n",
      "Iteration 10, loss = 0.12453985\n"
     ]
    },
    {
     "name": "stderr",
     "output_type": "stream",
     "text": [
      "D:\\Anaconda3\\lib\\site-packages\\sklearn\\neural_network\\multilayer_perceptron.py:563: ConvergenceWarning: Stochastic Optimizer: Maximum iterations reached and the optimization hasn't converged yet.\n",
      "  % (), ConvergenceWarning)\n"
     ]
    },
    {
     "name": "stdout",
     "output_type": "stream",
     "text": [
      "Iteration 1, loss = 1.76236579\n",
      "Iteration 2, loss = 0.68918246\n",
      "Iteration 3, loss = 0.37559278\n",
      "Iteration 4, loss = 0.26626466\n",
      "Iteration 5, loss = 0.20200529\n",
      "Iteration 6, loss = 0.16245522\n",
      "Iteration 7, loss = 0.12048935\n",
      "Iteration 8, loss = 0.09836368\n",
      "Iteration 9, loss = 0.07269702\n",
      "Iteration 10, loss = 0.05698689\n"
     ]
    },
    {
     "name": "stderr",
     "output_type": "stream",
     "text": [
      "D:\\Anaconda3\\lib\\site-packages\\sklearn\\neural_network\\multilayer_perceptron.py:563: ConvergenceWarning: Stochastic Optimizer: Maximum iterations reached and the optimization hasn't converged yet.\n",
      "  % (), ConvergenceWarning)\n"
     ]
    },
    {
     "name": "stdout",
     "output_type": "stream",
     "text": [
      "Iteration 1, loss = 1.29896116\n",
      "Iteration 2, loss = 0.39703487\n",
      "Iteration 3, loss = 0.26492047\n",
      "Iteration 4, loss = 0.20348830\n",
      "Iteration 5, loss = 0.15320242\n",
      "Iteration 6, loss = 0.11910508\n",
      "Iteration 7, loss = 0.08946200\n",
      "Iteration 8, loss = 0.06924719\n",
      "Iteration 9, loss = 0.04948867\n",
      "Iteration 10, loss = 0.03593538\n",
      "Iteration 1, loss = 1.01484990\n"
     ]
    },
    {
     "name": "stderr",
     "output_type": "stream",
     "text": [
      "D:\\Anaconda3\\lib\\site-packages\\sklearn\\neural_network\\multilayer_perceptron.py:563: ConvergenceWarning: Stochastic Optimizer: Maximum iterations reached and the optimization hasn't converged yet.\n",
      "  % (), ConvergenceWarning)\n"
     ]
    },
    {
     "name": "stdout",
     "output_type": "stream",
     "text": [
      "Iteration 2, loss = 0.31694362\n",
      "Iteration 3, loss = 0.21880210\n",
      "Iteration 4, loss = 0.16722427\n",
      "Iteration 5, loss = 0.12608930\n",
      "Iteration 6, loss = 0.09443923\n",
      "Iteration 7, loss = 0.07173557\n",
      "Iteration 8, loss = 0.05395281\n",
      "Iteration 9, loss = 0.03867746\n",
      "Iteration 10, loss = 0.02948218\n"
     ]
    },
    {
     "name": "stderr",
     "output_type": "stream",
     "text": [
      "D:\\Anaconda3\\lib\\site-packages\\sklearn\\neural_network\\multilayer_perceptron.py:563: ConvergenceWarning: Stochastic Optimizer: Maximum iterations reached and the optimization hasn't converged yet.\n",
      "  % (), ConvergenceWarning)\n"
     ]
    },
    {
     "name": "stdout",
     "output_type": "stream",
     "text": [
      "Iteration 1, loss = 0.82813587\n",
      "Iteration 2, loss = 0.25912779\n",
      "Iteration 3, loss = 0.18338442\n",
      "Iteration 4, loss = 0.13464529\n",
      "Iteration 5, loss = 0.10627939\n",
      "Iteration 6, loss = 0.08030210\n",
      "Iteration 7, loss = 0.06209368\n",
      "Iteration 8, loss = 0.04619573\n",
      "Iteration 9, loss = 0.03767382\n",
      "Iteration 10, loss = 0.02751743\n",
      "Iteration 1, loss = 2.19753486\n",
      "Iteration 2, loss = 1.54314408\n",
      "Iteration 3, loss = 0.98675974\n",
      "Iteration 4, loss = 0.60762570\n",
      "Iteration 5, loss = 0.44343678\n",
      "Iteration 6, loss = 0.32024609\n",
      "Iteration 7, loss = 0.23976259\n"
     ]
    },
    {
     "name": "stderr",
     "output_type": "stream",
     "text": [
      "D:\\Anaconda3\\lib\\site-packages\\sklearn\\neural_network\\multilayer_perceptron.py:563: ConvergenceWarning: Stochastic Optimizer: Maximum iterations reached and the optimization hasn't converged yet.\n",
      "  % (), ConvergenceWarning)\n"
     ]
    },
    {
     "name": "stdout",
     "output_type": "stream",
     "text": [
      "Iteration 8, loss = 0.18756953\n",
      "Iteration 9, loss = 0.14479318\n",
      "Iteration 10, loss = 0.12453985\n",
      "Iteration 1, loss = 1.76236579\n",
      "Iteration 2, loss = 0.68918246\n",
      "Iteration 3, loss = 0.37559278\n"
     ]
    },
    {
     "name": "stderr",
     "output_type": "stream",
     "text": [
      "D:\\Anaconda3\\lib\\site-packages\\sklearn\\neural_network\\multilayer_perceptron.py:563: ConvergenceWarning: Stochastic Optimizer: Maximum iterations reached and the optimization hasn't converged yet.\n",
      "  % (), ConvergenceWarning)\n"
     ]
    },
    {
     "name": "stdout",
     "output_type": "stream",
     "text": [
      "Iteration 4, loss = 0.26626466\n",
      "Iteration 5, loss = 0.20200529\n",
      "Iteration 6, loss = 0.16245522\n",
      "Iteration 7, loss = 0.12048935\n",
      "Iteration 8, loss = 0.09836368\n",
      "Iteration 9, loss = 0.07269702\n",
      "Iteration 10, loss = 0.05698689\n",
      "Iteration 1, loss = 1.29896116\n"
     ]
    },
    {
     "name": "stderr",
     "output_type": "stream",
     "text": [
      "D:\\Anaconda3\\lib\\site-packages\\sklearn\\neural_network\\multilayer_perceptron.py:563: ConvergenceWarning: Stochastic Optimizer: Maximum iterations reached and the optimization hasn't converged yet.\n",
      "  % (), ConvergenceWarning)\n"
     ]
    },
    {
     "name": "stdout",
     "output_type": "stream",
     "text": [
      "Iteration 2, loss = 0.39703487\n",
      "Iteration 3, loss = 0.26492047\n",
      "Iteration 4, loss = 0.20348830\n",
      "Iteration 5, loss = 0.15320242\n",
      "Iteration 6, loss = 0.11910508\n",
      "Iteration 7, loss = 0.08946200\n",
      "Iteration 8, loss = 0.06924719\n",
      "Iteration 9, loss = 0.04948867\n",
      "Iteration 10, loss = 0.03593538\n"
     ]
    },
    {
     "name": "stderr",
     "output_type": "stream",
     "text": [
      "D:\\Anaconda3\\lib\\site-packages\\sklearn\\neural_network\\multilayer_perceptron.py:563: ConvergenceWarning: Stochastic Optimizer: Maximum iterations reached and the optimization hasn't converged yet.\n",
      "  % (), ConvergenceWarning)\n"
     ]
    },
    {
     "name": "stdout",
     "output_type": "stream",
     "text": [
      "Iteration 1, loss = 0.98646623\n",
      "Iteration 2, loss = 0.31715128\n",
      "Iteration 3, loss = 0.22734489\n",
      "Iteration 4, loss = 0.17786827\n",
      "Iteration 5, loss = 0.13861779\n",
      "Iteration 6, loss = 0.10563623\n",
      "Iteration 7, loss = 0.08386473\n",
      "Iteration 8, loss = 0.06692934\n",
      "Iteration 9, loss = 0.05156518\n",
      "Iteration 10, loss = 0.03704055\n"
     ]
    },
    {
     "name": "stderr",
     "output_type": "stream",
     "text": [
      "D:\\Anaconda3\\lib\\site-packages\\sklearn\\neural_network\\multilayer_perceptron.py:563: ConvergenceWarning: Stochastic Optimizer: Maximum iterations reached and the optimization hasn't converged yet.\n",
      "  % (), ConvergenceWarning)\n"
     ]
    },
    {
     "name": "stdout",
     "output_type": "stream",
     "text": [
      "Iteration 1, loss = 0.81433422\n",
      "Iteration 2, loss = 0.26343081\n",
      "Iteration 3, loss = 0.18872972\n",
      "Iteration 4, loss = 0.14357252\n",
      "Iteration 5, loss = 0.11438251\n",
      "Iteration 6, loss = 0.08966009\n",
      "Iteration 7, loss = 0.06421667\n",
      "Iteration 8, loss = 0.05022774\n",
      "Iteration 9, loss = 0.04017863\n",
      "Iteration 10, loss = 0.02846312\n",
      "Iteration 1, loss = 2.19753486\n",
      "Iteration 2, loss = 1.54314408\n",
      "Iteration 3, loss = 0.98675974\n",
      "Iteration 4, loss = 0.60762570\n",
      "Iteration 5, loss = 0.44343678\n",
      "Iteration 6, loss = 0.32024609\n",
      "Iteration 7, loss = 0.23976259\n"
     ]
    },
    {
     "name": "stderr",
     "output_type": "stream",
     "text": [
      "D:\\Anaconda3\\lib\\site-packages\\sklearn\\neural_network\\multilayer_perceptron.py:563: ConvergenceWarning: Stochastic Optimizer: Maximum iterations reached and the optimization hasn't converged yet.\n",
      "  % (), ConvergenceWarning)\n"
     ]
    },
    {
     "name": "stdout",
     "output_type": "stream",
     "text": [
      "Iteration 8, loss = 0.18756953\n",
      "Iteration 9, loss = 0.14479318\n",
      "Iteration 10, loss = 0.12453985\n",
      "Iteration 1, loss = 1.76236579\n",
      "Iteration 2, loss = 0.68918246\n",
      "Iteration 3, loss = 0.37559278\n"
     ]
    },
    {
     "name": "stderr",
     "output_type": "stream",
     "text": [
      "D:\\Anaconda3\\lib\\site-packages\\sklearn\\neural_network\\multilayer_perceptron.py:563: ConvergenceWarning: Stochastic Optimizer: Maximum iterations reached and the optimization hasn't converged yet.\n",
      "  % (), ConvergenceWarning)\n"
     ]
    },
    {
     "name": "stdout",
     "output_type": "stream",
     "text": [
      "Iteration 4, loss = 0.26626466\n",
      "Iteration 5, loss = 0.20200529\n",
      "Iteration 6, loss = 0.16245522\n",
      "Iteration 7, loss = 0.12048935\n",
      "Iteration 8, loss = 0.09836368\n",
      "Iteration 9, loss = 0.07269702\n",
      "Iteration 10, loss = 0.05698689\n",
      "Iteration 1, loss = 1.29896116\n"
     ]
    },
    {
     "name": "stderr",
     "output_type": "stream",
     "text": [
      "D:\\Anaconda3\\lib\\site-packages\\sklearn\\neural_network\\multilayer_perceptron.py:563: ConvergenceWarning: Stochastic Optimizer: Maximum iterations reached and the optimization hasn't converged yet.\n",
      "  % (), ConvergenceWarning)\n"
     ]
    },
    {
     "name": "stdout",
     "output_type": "stream",
     "text": [
      "Iteration 2, loss = 0.39703487\n",
      "Iteration 3, loss = 0.26492047\n",
      "Iteration 4, loss = 0.20348830\n",
      "Iteration 5, loss = 0.15320242\n",
      "Iteration 6, loss = 0.11910508\n",
      "Iteration 7, loss = 0.08946200\n",
      "Iteration 8, loss = 0.06924719\n",
      "Iteration 9, loss = 0.04948867\n",
      "Iteration 10, loss = 0.03593538\n"
     ]
    },
    {
     "name": "stderr",
     "output_type": "stream",
     "text": [
      "D:\\Anaconda3\\lib\\site-packages\\sklearn\\neural_network\\multilayer_perceptron.py:563: ConvergenceWarning: Stochastic Optimizer: Maximum iterations reached and the optimization hasn't converged yet.\n",
      "  % (), ConvergenceWarning)\n"
     ]
    },
    {
     "name": "stdout",
     "output_type": "stream",
     "text": [
      "Iteration 1, loss = 0.98646623\n",
      "Iteration 2, loss = 0.31715128\n",
      "Iteration 3, loss = 0.22734489\n",
      "Iteration 4, loss = 0.17786827\n",
      "Iteration 5, loss = 0.13861779\n",
      "Iteration 6, loss = 0.10563623\n",
      "Iteration 7, loss = 0.08386473\n",
      "Iteration 8, loss = 0.06692934\n",
      "Iteration 9, loss = 0.05156518\n",
      "Iteration 10, loss = 0.03704055\n"
     ]
    },
    {
     "name": "stderr",
     "output_type": "stream",
     "text": [
      "D:\\Anaconda3\\lib\\site-packages\\sklearn\\neural_network\\multilayer_perceptron.py:563: ConvergenceWarning: Stochastic Optimizer: Maximum iterations reached and the optimization hasn't converged yet.\n",
      "  % (), ConvergenceWarning)\n"
     ]
    },
    {
     "name": "stdout",
     "output_type": "stream",
     "text": [
      "Iteration 1, loss = 0.82939742\n",
      "Iteration 2, loss = 0.26731813\n",
      "Iteration 3, loss = 0.19012672\n",
      "Iteration 4, loss = 0.14588727\n",
      "Iteration 5, loss = 0.11056198\n",
      "Iteration 6, loss = 0.08888431\n",
      "Iteration 7, loss = 0.06612879\n",
      "Iteration 8, loss = 0.05136425\n",
      "Iteration 9, loss = 0.03855565\n",
      "Iteration 10, loss = 0.02878478\n"
     ]
    },
    {
     "name": "stderr",
     "output_type": "stream",
     "text": [
      "D:\\Anaconda3\\lib\\site-packages\\sklearn\\neural_network\\multilayer_perceptron.py:563: ConvergenceWarning: Stochastic Optimizer: Maximum iterations reached and the optimization hasn't converged yet.\n",
      "  % (), ConvergenceWarning)\n"
     ]
    },
    {
     "name": "stdout",
     "output_type": "stream",
     "text": [
      "Iteration 1, loss = 2.19753486\n",
      "Iteration 2, loss = 1.54314408\n",
      "Iteration 3, loss = 0.98675974\n",
      "Iteration 4, loss = 0.60762570\n",
      "Iteration 5, loss = 0.44343678\n",
      "Iteration 6, loss = 0.32024609\n",
      "Iteration 7, loss = 0.23976259\n",
      "Iteration 8, loss = 0.18756953\n",
      "Iteration 9, loss = 0.14479318\n",
      "Iteration 10, loss = 0.12453985\n"
     ]
    },
    {
     "name": "stderr",
     "output_type": "stream",
     "text": [
      "D:\\Anaconda3\\lib\\site-packages\\sklearn\\neural_network\\multilayer_perceptron.py:563: ConvergenceWarning: Stochastic Optimizer: Maximum iterations reached and the optimization hasn't converged yet.\n",
      "  % (), ConvergenceWarning)\n"
     ]
    },
    {
     "name": "stdout",
     "output_type": "stream",
     "text": [
      "Iteration 1, loss = 1.76236579\n",
      "Iteration 2, loss = 0.68918246\n",
      "Iteration 3, loss = 0.37559278\n",
      "Iteration 4, loss = 0.26626466\n",
      "Iteration 5, loss = 0.20200529\n",
      "Iteration 6, loss = 0.16245522\n",
      "Iteration 7, loss = 0.12048935\n",
      "Iteration 8, loss = 0.09836368\n",
      "Iteration 9, loss = 0.07269702\n",
      "Iteration 10, loss = 0.05698689\n"
     ]
    },
    {
     "name": "stderr",
     "output_type": "stream",
     "text": [
      "D:\\Anaconda3\\lib\\site-packages\\sklearn\\neural_network\\multilayer_perceptron.py:563: ConvergenceWarning: Stochastic Optimizer: Maximum iterations reached and the optimization hasn't converged yet.\n",
      "  % (), ConvergenceWarning)\n"
     ]
    },
    {
     "name": "stdout",
     "output_type": "stream",
     "text": [
      "Iteration 1, loss = 1.29896116\n",
      "Iteration 2, loss = 0.39703487\n",
      "Iteration 3, loss = 0.26492047\n",
      "Iteration 4, loss = 0.20348830\n",
      "Iteration 5, loss = 0.15320242\n",
      "Iteration 6, loss = 0.11910508\n",
      "Iteration 7, loss = 0.08946200\n",
      "Iteration 8, loss = 0.06924719\n",
      "Iteration 9, loss = 0.04948867\n",
      "Iteration 10, loss = 0.03593538\n",
      "Iteration 1, loss = 0.98646623\n"
     ]
    },
    {
     "name": "stderr",
     "output_type": "stream",
     "text": [
      "D:\\Anaconda3\\lib\\site-packages\\sklearn\\neural_network\\multilayer_perceptron.py:563: ConvergenceWarning: Stochastic Optimizer: Maximum iterations reached and the optimization hasn't converged yet.\n",
      "  % (), ConvergenceWarning)\n"
     ]
    },
    {
     "name": "stdout",
     "output_type": "stream",
     "text": [
      "Iteration 2, loss = 0.31715128\n",
      "Iteration 3, loss = 0.22734489\n",
      "Iteration 4, loss = 0.17786827\n",
      "Iteration 5, loss = 0.13861779\n",
      "Iteration 6, loss = 0.10563623\n",
      "Iteration 7, loss = 0.08386473\n",
      "Iteration 8, loss = 0.06692934\n",
      "Iteration 9, loss = 0.05156518\n",
      "Iteration 10, loss = 0.03704055\n"
     ]
    },
    {
     "name": "stderr",
     "output_type": "stream",
     "text": [
      "D:\\Anaconda3\\lib\\site-packages\\sklearn\\neural_network\\multilayer_perceptron.py:563: ConvergenceWarning: Stochastic Optimizer: Maximum iterations reached and the optimization hasn't converged yet.\n",
      "  % (), ConvergenceWarning)\n"
     ]
    },
    {
     "name": "stdout",
     "output_type": "stream",
     "text": [
      "Iteration 1, loss = 0.85377479\n",
      "Iteration 2, loss = 0.25900606\n",
      "Iteration 3, loss = 0.18080784\n",
      "Iteration 4, loss = 0.13487443\n",
      "Iteration 5, loss = 0.10611096\n",
      "Iteration 6, loss = 0.08136923\n",
      "Iteration 7, loss = 0.06168739\n",
      "Iteration 8, loss = 0.04903990\n",
      "Iteration 9, loss = 0.03722986\n",
      "Iteration 10, loss = 0.02726954\n"
     ]
    },
    {
     "name": "stderr",
     "output_type": "stream",
     "text": [
      "D:\\Anaconda3\\lib\\site-packages\\sklearn\\neural_network\\multilayer_perceptron.py:563: ConvergenceWarning: Stochastic Optimizer: Maximum iterations reached and the optimization hasn't converged yet.\n",
      "  % (), ConvergenceWarning)\n"
     ]
    }
   ],
   "source": [
    "# 优化训练次数\n",
    "from sklearn.learning_curve import learning_curve\n",
    "train_sizes, train_loss, test_loss = learning_curve(model, \n",
    "                                                    x, y, cv = 10, scoring = 'neg_mean_squared_error',\n",
    "                                                    train_sizes = [0.1, 0.25, 0.5, 0.75, 1])\n",
    "\n",
    "# 训练误差均值\n",
    "train_loss_mean = -np.mean(train_loss, axis = 1)\n",
    "# 测试误差均值\n",
    "test_loss_mean = -np.mean(test_loss, axis = 1)"
   ]
  },
  {
   "cell_type": "code",
   "execution_count": 8,
   "metadata": {
    "collapsed": false
   },
   "outputs": [
    {
     "data": {
      "image/png": "[encoded data removed]",
      "text/plain": [
       "<matplotlib.figure.Figure at 0x8ff3da0>"
      ]
     },
     "metadata": {},
     "output_type": "display_data"
    }
   ],
   "source": [
    "# 绘制误差曲线\n",
    "plt.plot(train_sizes, train_loss_mean, 'o-', color = 'r', label = 'Training')\n",
    "plt.plot(train_sizes, test_loss_mean, 'o-', color = 'g', label = 'Cross-Validation')\n",
    "\n",
    "plt.xlabel('Training data size')\n",
    "plt.ylabel('Loss')\n",
    "plt.legend(loc = 'best')\n",
    "plt.show()"
   ]
  },
  {
   "cell_type": "code",
   "execution_count": 9,
   "metadata": {
    "collapsed": false
   },
   "outputs": [
    {
     "name": "stdout",
     "output_type": "stream",
     "text": [
      "Iteration 1, loss = 1.40452866\n",
      "Iteration 2, loss = 0.45277100\n",
      "Iteration 3, loss = 0.33622163\n",
      "Iteration 4, loss = 0.28234337\n",
      "Iteration 5, loss = 0.26423751\n",
      "Iteration 6, loss = 0.24057286\n",
      "Iteration 7, loss = 0.22555253\n",
      "Iteration 8, loss = 0.21236895\n",
      "Iteration 9, loss = 0.20946425\n",
      "Iteration 10, loss = 0.19595660\n"
     ]
    },
    {
     "name": "stderr",
     "output_type": "stream",
     "text": [
      "D:\\Anaconda3\\lib\\site-packages\\sklearn\\neural_network\\multilayer_perceptron.py:563: ConvergenceWarning: Stochastic Optimizer: Maximum iterations reached and the optimization hasn't converged yet.\n",
      "  % (), ConvergenceWarning)\n"
     ]
    },
    {
     "name": "stdout",
     "output_type": "stream",
     "text": [
      "Iteration 1, loss = 0.90678742\n",
      "Iteration 2, loss = 0.29778804\n",
      "Iteration 3, loss = 0.22690549\n",
      "Iteration 4, loss = 0.18558652\n",
      "Iteration 5, loss = 0.15274193\n",
      "Iteration 6, loss = 0.14003401\n",
      "Iteration 7, loss = 0.11722206\n",
      "Iteration 8, loss = 0.11416346\n",
      "Iteration 9, loss = 0.09298024\n",
      "Iteration 10, loss = 0.08794944\n"
     ]
    },
    {
     "name": "stderr",
     "output_type": "stream",
     "text": [
      "D:\\Anaconda3\\lib\\site-packages\\sklearn\\neural_network\\multilayer_perceptron.py:563: ConvergenceWarning: Stochastic Optimizer: Maximum iterations reached and the optimization hasn't converged yet.\n",
      "  % (), ConvergenceWarning)\n"
     ]
    },
    {
     "name": "stdout",
     "output_type": "stream",
     "text": [
      "Iteration 1, loss = 0.78187116\n",
      "Iteration 2, loss = 0.25388510\n",
      "Iteration 3, loss = 0.16955852\n",
      "Iteration 4, loss = 0.13240239\n",
      "Iteration 5, loss = 0.10025403\n",
      "Iteration 6, loss = 0.07594441\n",
      "Iteration 7, loss = 0.06047849\n",
      "Iteration 8, loss = 0.04637888\n",
      "Iteration 9, loss = 0.03677402\n",
      "Iteration 10, loss = 0.02490908\n"
     ]
    },
    {
     "name": "stderr",
     "output_type": "stream",
     "text": [
      "D:\\Anaconda3\\lib\\site-packages\\sklearn\\neural_network\\multilayer_perceptron.py:563: ConvergenceWarning: Stochastic Optimizer: Maximum iterations reached and the optimization hasn't converged yet.\n",
      "  % (), ConvergenceWarning)\n"
     ]
    },
    {
     "name": "stdout",
     "output_type": "stream",
     "text": [
      "Iteration 1, loss = 0.72488779\n",
      "Iteration 2, loss = 0.22713011\n",
      "Iteration 3, loss = 0.15378707\n",
      "Iteration 4, loss = 0.10674882\n",
      "Iteration 5, loss = 0.08116687\n",
      "Iteration 6, loss = 0.05852362\n",
      "Iteration 7, loss = 0.04129173\n",
      "Iteration 8, loss = 0.03260524\n",
      "Iteration 9, loss = 0.02342850\n",
      "Iteration 10, loss = 0.01683708\n"
     ]
    },
    {
     "name": "stderr",
     "output_type": "stream",
     "text": [
      "D:\\Anaconda3\\lib\\site-packages\\sklearn\\neural_network\\multilayer_perceptron.py:563: ConvergenceWarning: Stochastic Optimizer: Maximum iterations reached and the optimization hasn't converged yet.\n",
      "  % (), ConvergenceWarning)\n"
     ]
    },
    {
     "name": "stdout",
     "output_type": "stream",
     "text": [
      "Iteration 1, loss = 0.76085272\n",
      "Iteration 2, loss = 0.22664155\n",
      "Iteration 3, loss = 0.14677409\n",
      "Iteration 4, loss = 0.10715156\n",
      "Iteration 5, loss = 0.07679921\n",
      "Iteration 6, loss = 0.06052605\n",
      "Iteration 7, loss = 0.04205178\n",
      "Iteration 8, loss = 0.02853183\n",
      "Iteration 9, loss = 0.01974877\n",
      "Iteration 10, loss = 0.01493905\n"
     ]
    },
    {
     "name": "stderr",
     "output_type": "stream",
     "text": [
      "D:\\Anaconda3\\lib\\site-packages\\sklearn\\neural_network\\multilayer_perceptron.py:563: ConvergenceWarning: Stochastic Optimizer: Maximum iterations reached and the optimization hasn't converged yet.\n",
      "  % (), ConvergenceWarning)\n"
     ]
    },
    {
     "name": "stdout",
     "output_type": "stream",
     "text": [
      "Iteration 1, loss = 1.66344874\n",
      "Iteration 2, loss = 0.59623043\n",
      "Iteration 3, loss = 0.38985668\n",
      "Iteration 4, loss = 0.33769992\n",
      "Iteration 5, loss = 0.31157361\n",
      "Iteration 6, loss = 0.28956695\n",
      "Iteration 7, loss = 0.26731122\n",
      "Iteration 8, loss = 0.25674761\n",
      "Iteration 9, loss = 0.24826723\n",
      "Iteration 10, loss = 0.24057102\n"
     ]
    },
    {
     "name": "stderr",
     "output_type": "stream",
     "text": [
      "D:\\Anaconda3\\lib\\site-packages\\sklearn\\neural_network\\multilayer_perceptron.py:563: ConvergenceWarning: Stochastic Optimizer: Maximum iterations reached and the optimization hasn't converged yet.\n",
      "  % (), ConvergenceWarning)\n"
     ]
    },
    {
     "name": "stdout",
     "output_type": "stream",
     "text": [
      "Iteration 1, loss = 0.92889035\n",
      "Iteration 2, loss = 0.32173874\n",
      "Iteration 3, loss = 0.24504576\n",
      "Iteration 4, loss = 0.19791168\n",
      "Iteration 5, loss = 0.16720739\n",
      "Iteration 6, loss = 0.14356989\n",
      "Iteration 7, loss = 0.12254948\n",
      "Iteration 8, loss = 0.09748972\n",
      "Iteration 9, loss = 0.08695943\n",
      "Iteration 10, loss = 0.08548024\n"
     ]
    },
    {
     "name": "stderr",
     "output_type": "stream",
     "text": [
      "D:\\Anaconda3\\lib\\site-packages\\sklearn\\neural_network\\multilayer_perceptron.py:563: ConvergenceWarning: Stochastic Optimizer: Maximum iterations reached and the optimization hasn't converged yet.\n",
      "  % (), ConvergenceWarning)\n"
     ]
    },
    {
     "name": "stdout",
     "output_type": "stream",
     "text": [
      "Iteration 1, loss = 0.84187092\n",
      "Iteration 2, loss = 0.26000448\n",
      "Iteration 3, loss = 0.18066421\n",
      "Iteration 4, loss = 0.13851107\n",
      "Iteration 5, loss = 0.10065400\n",
      "Iteration 6, loss = 0.07659037\n",
      "Iteration 7, loss = 0.05990770\n",
      "Iteration 8, loss = 0.04579279\n",
      "Iteration 9, loss = 0.03313706\n",
      "Iteration 10, loss = 0.02731456\n"
     ]
    },
    {
     "name": "stderr",
     "output_type": "stream",
     "text": [
      "D:\\Anaconda3\\lib\\site-packages\\sklearn\\neural_network\\multilayer_perceptron.py:563: ConvergenceWarning: Stochastic Optimizer: Maximum iterations reached and the optimization hasn't converged yet.\n",
      "  % (), ConvergenceWarning)\n"
     ]
    },
    {
     "name": "stdout",
     "output_type": "stream",
     "text": [
      "Iteration 1, loss = 0.73333666\n",
      "Iteration 2, loss = 0.24119006\n",
      "Iteration 3, loss = 0.16273019\n",
      "Iteration 4, loss = 0.11844502\n",
      "Iteration 5, loss = 0.08505964\n",
      "Iteration 6, loss = 0.06200148\n",
      "Iteration 7, loss = 0.04741334\n",
      "Iteration 8, loss = 0.03341776\n",
      "Iteration 9, loss = 0.02419570\n",
      "Iteration 10, loss = 0.01491461\n"
     ]
    },
    {
     "name": "stderr",
     "output_type": "stream",
     "text": [
      "D:\\Anaconda3\\lib\\site-packages\\sklearn\\neural_network\\multilayer_perceptron.py:563: ConvergenceWarning: Stochastic Optimizer: Maximum iterations reached and the optimization hasn't converged yet.\n",
      "  % (), ConvergenceWarning)\n"
     ]
    },
    {
     "name": "stdout",
     "output_type": "stream",
     "text": [
      "Iteration 1, loss = 0.79289945\n",
      "Iteration 2, loss = 0.23190988\n",
      "Iteration 3, loss = 0.15688516\n",
      "Iteration 4, loss = 0.11199636\n",
      "Iteration 5, loss = 0.07906910\n",
      "Iteration 6, loss = 0.05828002\n",
      "Iteration 7, loss = 0.04153152\n",
      "Iteration 8, loss = 0.02881667\n",
      "Iteration 9, loss = 0.02238725\n",
      "Iteration 10, loss = 0.01461734\n",
      "Iteration 1, loss = 1.40683995"
     ]
    },
    {
     "name": "stderr",
     "output_type": "stream",
     "text": [
      "D:\\Anaconda3\\lib\\site-packages\\sklearn\\neural_network\\multilayer_perceptron.py:563: ConvergenceWarning: Stochastic Optimizer: Maximum iterations reached and the optimization hasn't converged yet.\n",
      "  % (), ConvergenceWarning)\n"
     ]
    },
    {
     "name": "stdout",
     "output_type": "stream",
     "text": [
      "\n",
      "Iteration 2, loss = 0.42051133\n",
      "Iteration 3, loss = 0.30099208\n",
      "Iteration 4, loss = 0.25130697\n",
      "Iteration 5, loss = 0.22058510\n",
      "Iteration 6, loss = 0.19790935\n",
      "Iteration 7, loss = 0.17940932\n",
      "Iteration 8, loss = 0.16544273\n",
      "Iteration 9, loss = 0.15113267\n",
      "Iteration 10, loss = 0.14249716\n"
     ]
    },
    {
     "name": "stderr",
     "output_type": "stream",
     "text": [
      "D:\\Anaconda3\\lib\\site-packages\\sklearn\\neural_network\\multilayer_perceptron.py:563: ConvergenceWarning: Stochastic Optimizer: Maximum iterations reached and the optimization hasn't converged yet.\n",
      "  % (), ConvergenceWarning)\n"
     ]
    },
    {
     "name": "stdout",
     "output_type": "stream",
     "text": [
      "Iteration 1, loss = 0.88820528\n",
      "Iteration 2, loss = 0.30517951\n",
      "Iteration 3, loss = 0.23722754\n",
      "Iteration 4, loss = 0.19074524\n",
      "Iteration 5, loss = 0.16270604\n",
      "Iteration 6, loss = 0.13683423\n",
      "Iteration 7, loss = 0.11391411\n",
      "Iteration 8, loss = 0.10307550\n",
      "Iteration 9, loss = 0.09320134\n",
      "Iteration 10, loss = 0.08144817\n"
     ]
    },
    {
     "name": "stderr",
     "output_type": "stream",
     "text": [
      "D:\\Anaconda3\\lib\\site-packages\\sklearn\\neural_network\\multilayer_perceptron.py:563: ConvergenceWarning: Stochastic Optimizer: Maximum iterations reached and the optimization hasn't converged yet.\n",
      "  % (), ConvergenceWarning)\n"
     ]
    },
    {
     "name": "stdout",
     "output_type": "stream",
     "text": [
      "Iteration 1, loss = 0.82356902\n",
      "Iteration 2, loss = 0.24284756\n",
      "Iteration 3, loss = 0.17153713\n",
      "Iteration 4, loss = 0.12699891\n",
      "Iteration 5, loss = 0.09540901\n",
      "Iteration 6, loss = 0.07154817\n",
      "Iteration 7, loss = 0.05675038\n",
      "Iteration 8, loss = 0.04283342\n",
      "Iteration 9, loss = 0.03224249\n",
      "Iteration 10, loss = 0.02570411\n"
     ]
    },
    {
     "name": "stderr",
     "output_type": "stream",
     "text": [
      "D:\\Anaconda3\\lib\\site-packages\\sklearn\\neural_network\\multilayer_perceptron.py:563: ConvergenceWarning: Stochastic Optimizer: Maximum iterations reached and the optimization hasn't converged yet.\n",
      "  % (), ConvergenceWarning)\n"
     ]
    },
    {
     "name": "stdout",
     "output_type": "stream",
     "text": [
      "Iteration 1, loss = 0.70825222\n",
      "Iteration 2, loss = 0.22368053\n",
      "Iteration 3, loss = 0.15433644\n",
      "Iteration 4, loss = 0.11186812\n",
      "Iteration 5, loss = 0.08044857\n",
      "Iteration 6, loss = 0.06129406\n",
      "Iteration 7, loss = 0.04731268\n",
      "Iteration 8, loss = 0.03405814\n",
      "Iteration 9, loss = 0.02178953\n",
      "Iteration 10, loss = 0.01414137\n"
     ]
    },
    {
     "name": "stderr",
     "output_type": "stream",
     "text": [
      "D:\\Anaconda3\\lib\\site-packages\\sklearn\\neural_network\\multilayer_perceptron.py:563: ConvergenceWarning: Stochastic Optimizer: Maximum iterations reached and the optimization hasn't converged yet.\n",
      "  % (), ConvergenceWarning)\n"
     ]
    },
    {
     "name": "stdout",
     "output_type": "stream",
     "text": [
      "Iteration 1, loss = 0.77913723\n",
      "Iteration 2, loss = 0.21691988\n",
      "Iteration 3, loss = 0.14315145\n",
      "Iteration 4, loss = 0.10545728\n",
      "Iteration 5, loss = 0.07583673\n",
      "Iteration 6, loss = 0.05494215\n",
      "Iteration 7, loss = 0.04174418\n",
      "Iteration 8, loss = 0.02781030\n",
      "Iteration 9, loss = 0.02166380\n",
      "Iteration 10, loss = 0.01622253\n"
     ]
    },
    {
     "name": "stderr",
     "output_type": "stream",
     "text": [
      "D:\\Anaconda3\\lib\\site-packages\\sklearn\\neural_network\\multilayer_perceptron.py:563: ConvergenceWarning: Stochastic Optimizer: Maximum iterations reached and the optimization hasn't converged yet.\n",
      "  % (), ConvergenceWarning)\n"
     ]
    },
    {
     "name": "stdout",
     "output_type": "stream",
     "text": [
      "Iteration 1, loss = 1.63803563\n",
      "Iteration 2, loss = 0.73438182\n",
      "Iteration 3, loss = 0.51365135\n",
      "Iteration 4, loss = 0.43580578\n",
      "Iteration 5, loss = 0.38821443\n",
      "Iteration 6, loss = 0.36692558\n",
      "Iteration 7, loss = 0.34847682\n",
      "Iteration 8, loss = 0.33140684\n",
      "Iteration 9, loss = 0.31734486\n",
      "Iteration 10, loss = 0.30204866\n",
      "Iteration 1, loss = 0.90417363\n"
     ]
    },
    {
     "name": "stderr",
     "output_type": "stream",
     "text": [
      "D:\\Anaconda3\\lib\\site-packages\\sklearn\\neural_network\\multilayer_perceptron.py:563: ConvergenceWarning: Stochastic Optimizer: Maximum iterations reached and the optimization hasn't converged yet.\n",
      "  % (), ConvergenceWarning)\n"
     ]
    },
    {
     "name": "stdout",
     "output_type": "stream",
     "text": [
      "Iteration 2, loss = 0.31126133\n",
      "Iteration 3, loss = 0.23140628\n",
      "Iteration 4, loss = 0.19059406\n",
      "Iteration 5, loss = 0.16168762\n",
      "Iteration 6, loss = 0.13992754\n",
      "Iteration 7, loss = 0.11937485\n",
      "Iteration 8, loss = 0.10166499\n",
      "Iteration 9, loss = 0.09031415\n",
      "Iteration 10, loss = 0.07931656\n"
     ]
    },
    {
     "name": "stderr",
     "output_type": "stream",
     "text": [
      "D:\\Anaconda3\\lib\\site-packages\\sklearn\\neural_network\\multilayer_perceptron.py:563: ConvergenceWarning: Stochastic Optimizer: Maximum iterations reached and the optimization hasn't converged yet.\n",
      "  % (), ConvergenceWarning)\n"
     ]
    },
    {
     "name": "stdout",
     "output_type": "stream",
     "text": [
      "Iteration 1, loss = 0.80319192\n",
      "Iteration 2, loss = 0.25151567\n",
      "Iteration 3, loss = 0.17903346\n",
      "Iteration 4, loss = 0.13283187\n",
      "Iteration 5, loss = 0.10542308\n",
      "Iteration 6, loss = 0.08350177\n",
      "Iteration 7, loss = 0.06375461\n",
      "Iteration 8, loss = 0.04551676\n",
      "Iteration 9, loss = 0.03702495\n",
      "Iteration 10, loss = 0.03019770\n"
     ]
    },
    {
     "name": "stderr",
     "output_type": "stream",
     "text": [
      "D:\\Anaconda3\\lib\\site-packages\\sklearn\\neural_network\\multilayer_perceptron.py:563: ConvergenceWarning: Stochastic Optimizer: Maximum iterations reached and the optimization hasn't converged yet.\n",
      "  % (), ConvergenceWarning)\n"
     ]
    },
    {
     "name": "stdout",
     "output_type": "stream",
     "text": [
      "Iteration 1, loss = 0.71206665\n",
      "Iteration 2, loss = 0.23780152\n",
      "Iteration 3, loss = 0.16235581\n",
      "Iteration 4, loss = 0.11504128\n",
      "Iteration 5, loss = 0.08697463\n",
      "Iteration 6, loss = 0.06278477\n",
      "Iteration 7, loss = 0.04779385\n",
      "Iteration 8, loss = 0.03613638\n",
      "Iteration 9, loss = 0.02478665\n",
      "Iteration 10, loss = 0.01900170\n"
     ]
    },
    {
     "name": "stderr",
     "output_type": "stream",
     "text": [
      "D:\\Anaconda3\\lib\\site-packages\\sklearn\\neural_network\\multilayer_perceptron.py:563: ConvergenceWarning: Stochastic Optimizer: Maximum iterations reached and the optimization hasn't converged yet.\n",
      "  % (), ConvergenceWarning)\n"
     ]
    },
    {
     "name": "stdout",
     "output_type": "stream",
     "text": [
      "Iteration 1, loss = 0.77486742\n",
      "Iteration 2, loss = 0.22861313\n",
      "Iteration 3, loss = 0.15195083\n",
      "Iteration 4, loss = 0.10390271\n",
      "Iteration 5, loss = 0.07445138\n",
      "Iteration 6, loss = 0.05464828\n",
      "Iteration 7, loss = 0.03963958\n",
      "Iteration 8, loss = 0.02826555\n",
      "Iteration 9, loss = 0.01963422\n",
      "Iteration 10, loss = 0.01423081\n"
     ]
    },
    {
     "name": "stderr",
     "output_type": "stream",
     "text": [
      "D:\\Anaconda3\\lib\\site-packages\\sklearn\\neural_network\\multilayer_perceptron.py:563: ConvergenceWarning: Stochastic Optimizer: Maximum iterations reached and the optimization hasn't converged yet.\n",
      "  % (), ConvergenceWarning)\n"
     ]
    },
    {
     "name": "stdout",
     "output_type": "stream",
     "text": [
      "Iteration 1, loss = 1.22886404\n",
      "Iteration 2, loss = 0.41983871\n",
      "Iteration 3, loss = 0.33502410\n",
      "Iteration 4, loss = 0.31532174\n",
      "Iteration 5, loss = 0.29367001\n",
      "Iteration 6, loss = 0.27202519\n",
      "Iteration 7, loss = 0.25718009\n",
      "Iteration 8, loss = 0.24745844\n",
      "Iteration 9, loss = 0.24021322\n",
      "Iteration 10, loss = 0.22303674\n"
     ]
    },
    {
     "name": "stderr",
     "output_type": "stream",
     "text": [
      "D:\\Anaconda3\\lib\\site-packages\\sklearn\\neural_network\\multilayer_perceptron.py:563: ConvergenceWarning: Stochastic Optimizer: Maximum iterations reached and the optimization hasn't converged yet.\n",
      "  % (), ConvergenceWarning)\n"
     ]
    },
    {
     "name": "stdout",
     "output_type": "stream",
     "text": [
      "Iteration 1, loss = 0.90073735\n",
      "Iteration 2, loss = 0.30368284\n",
      "Iteration 3, loss = 0.22905183\n",
      "Iteration 4, loss = 0.19904162\n",
      "Iteration 5, loss = 0.16713843\n",
      "Iteration 6, loss = 0.14756067\n",
      "Iteration 7, loss = 0.13165325\n",
      "Iteration 8, loss = 0.10924095\n",
      "Iteration 9, loss = 0.09542321\n",
      "Iteration 10, loss = 0.08600667\n"
     ]
    },
    {
     "name": "stderr",
     "output_type": "stream",
     "text": [
      "D:\\Anaconda3\\lib\\site-packages\\sklearn\\neural_network\\multilayer_perceptron.py:563: ConvergenceWarning: Stochastic Optimizer: Maximum iterations reached and the optimization hasn't converged yet.\n",
      "  % (), ConvergenceWarning)\n"
     ]
    },
    {
     "name": "stdout",
     "output_type": "stream",
     "text": [
      "Iteration 1, loss = 0.82339307\n",
      "Iteration 2, loss = 0.25696178\n",
      "Iteration 3, loss = 0.18196441\n",
      "Iteration 4, loss = 0.13706206\n",
      "Iteration 5, loss = 0.10864025\n",
      "Iteration 6, loss = 0.08161445\n",
      "Iteration 7, loss = 0.06482672\n",
      "Iteration 8, loss = 0.04893842\n",
      "Iteration 9, loss = 0.03598496\n",
      "Iteration 10, loss = 0.02949324\n"
     ]
    },
    {
     "name": "stderr",
     "output_type": "stream",
     "text": [
      "D:\\Anaconda3\\lib\\site-packages\\sklearn\\neural_network\\multilayer_perceptron.py:563: ConvergenceWarning: Stochastic Optimizer: Maximum iterations reached and the optimization hasn't converged yet.\n",
      "  % (), ConvergenceWarning)\n"
     ]
    },
    {
     "name": "stdout",
     "output_type": "stream",
     "text": [
      "Iteration 1, loss = 0.70926585\n",
      "Iteration 2, loss = 0.23832791\n",
      "Iteration 3, loss = 0.16472394\n",
      "Iteration 4, loss = 0.12345021\n",
      "Iteration 5, loss = 0.08640567\n",
      "Iteration 6, loss = 0.06579802\n",
      "Iteration 7, loss = 0.04877549\n",
      "Iteration 8, loss = 0.03410949\n",
      "Iteration 9, loss = 0.02247546\n",
      "Iteration 10, loss = 0.01663680\n"
     ]
    },
    {
     "name": "stderr",
     "output_type": "stream",
     "text": [
      "D:\\Anaconda3\\lib\\site-packages\\sklearn\\neural_network\\multilayer_perceptron.py:563: ConvergenceWarning: Stochastic Optimizer: Maximum iterations reached and the optimization hasn't converged yet.\n",
      "  % (), ConvergenceWarning)\n"
     ]
    },
    {
     "name": "stdout",
     "output_type": "stream",
     "text": [
      "Iteration 1, loss = 0.95122552\n",
      "Iteration 2, loss = 0.25134753\n",
      "Iteration 3, loss = 0.16330549\n",
      "Iteration 4, loss = 0.11461080\n",
      "Iteration 5, loss = 0.08649812\n",
      "Iteration 6, loss = 0.06130384\n",
      "Iteration 7, loss = 0.04624714\n",
      "Iteration 8, loss = 0.02930188\n",
      "Iteration 9, loss = 0.02031129\n",
      "Iteration 10, loss = 0.01277362\n"
     ]
    },
    {
     "name": "stderr",
     "output_type": "stream",
     "text": [
      "D:\\Anaconda3\\lib\\site-packages\\sklearn\\neural_network\\multilayer_perceptron.py:563: ConvergenceWarning: Stochastic Optimizer: Maximum iterations reached and the optimization hasn't converged yet.\n",
      "  % (), ConvergenceWarning)\n"
     ]
    },
    {
     "name": "stdout",
     "output_type": "stream",
     "text": [
      "Iteration 1, loss = 1.27876831\n",
      "Iteration 2, loss = 0.43928526\n",
      "Iteration 3, loss = 0.35670840\n",
      "Iteration 4, loss = 0.32391566\n",
      "Iteration 5, loss = 1.73383758\n",
      "Iteration 6, loss = 0.89736584\n",
      "Iteration 7, loss = 0.65255214\n",
      "Training loss did not improve more than tol=0.000100 for two consecutive epochs. Stopping.\n",
      "Iteration 1, loss = 0.92024625\n",
      "Iteration 2, loss = 0.31313336\n",
      "Iteration 3, loss = 0.23633402\n",
      "Iteration 4, loss = 3.01835401\n",
      "Iteration 5, loss = 1.26534345\n",
      "Iteration 6, loss = 1.05279937\n",
      "Training loss did not improve more than tol=0.000100 for two consecutive epochs. Stopping.\n",
      "Iteration 1, loss = 0.81738844\n",
      "Iteration 2, loss = 0.25368526\n",
      "Iteration 3, loss = 1.15094211\n",
      "Iteration 4, loss = 0.25568068\n",
      "Iteration 5, loss = 0.18752010\n",
      "Iteration 6, loss = 0.13994125\n",
      "Iteration 7, loss = 0.12223943\n",
      "Iteration 8, loss = 0.12960278\n",
      "Iteration 9, loss = 0.09046564\n",
      "Iteration 10, loss = 0.07748831\n"
     ]
    },
    {
     "name": "stderr",
     "output_type": "stream",
     "text": [
      "D:\\Anaconda3\\lib\\site-packages\\sklearn\\neural_network\\multilayer_perceptron.py:563: ConvergenceWarning: Stochastic Optimizer: Maximum iterations reached and the optimization hasn't converged yet.\n",
      "  % (), ConvergenceWarning)\n"
     ]
    },
    {
     "name": "stdout",
     "output_type": "stream",
     "text": [
      "Iteration 1, loss = 0.75749331\n",
      "Iteration 2, loss = 0.23578315\n",
      "Iteration 3, loss = 0.16482743\n",
      "Iteration 4, loss = 0.11913430\n",
      "Iteration 5, loss = 0.08509478\n",
      "Iteration 6, loss = 0.06243259\n",
      "Iteration 7, loss = 0.04201284\n",
      "Iteration 8, loss = 1.98774094\n",
      "Iteration 9, loss = 0.41104280\n",
      "Iteration 10, loss = 0.26313319\n",
      "Training loss did not improve more than tol=0.000100 for two consecutive epochs. Stopping.\n",
      "Iteration 1, loss = 0.79818220\n",
      "Iteration 2, loss = 0.23199767\n",
      "Iteration 3, loss = 0.15731305\n",
      "Iteration 4, loss = 0.11473947\n",
      "Iteration 5, loss = 0.46137991\n",
      "Iteration 6, loss = 0.12074858\n",
      "Iteration 7, loss = 0.08167516\n",
      "Iteration 8, loss = 0.08107943\n",
      "Iteration 9, loss = 0.10416250\n",
      "Iteration 10, loss = 0.04364689\n"
     ]
    },
    {
     "name": "stderr",
     "output_type": "stream",
     "text": [
      "D:\\Anaconda3\\lib\\site-packages\\sklearn\\neural_network\\multilayer_perceptron.py:563: ConvergenceWarning: Stochastic Optimizer: Maximum iterations reached and the optimization hasn't converged yet.\n",
      "  % (), ConvergenceWarning)\n"
     ]
    },
    {
     "name": "stdout",
     "output_type": "stream",
     "text": [
      "Iteration 1, loss = 1.34381989\n",
      "Iteration 2, loss = 0.43655878\n",
      "Iteration 3, loss = 0.36065320\n",
      "Iteration 4, loss = 0.30914429\n",
      "Iteration 5, loss = 1.36973335\n",
      "Iteration 6, loss = 0.61580174\n",
      "Iteration 7, loss = 0.47984439\n",
      "Training loss did not improve more than tol=0.000100 for two consecutive epochs. Stopping.\n",
      "Iteration 1, loss = 0.89935954\n",
      "Iteration 2, loss = 0.30888950\n",
      "Iteration 3, loss = 0.27405683\n",
      "Iteration 4, loss = 0.63739855\n",
      "Iteration 5, loss = 0.26321170\n",
      "Iteration 6, loss = 0.23071879\n",
      "Iteration 7, loss = 0.17878195\n",
      "Iteration 8, loss = 0.16068991\n",
      "Iteration 9, loss = 0.14019449\n",
      "Iteration 10, loss = 0.12435665\n"
     ]
    },
    {
     "name": "stderr",
     "output_type": "stream",
     "text": [
      "D:\\Anaconda3\\lib\\site-packages\\sklearn\\neural_network\\multilayer_perceptron.py:563: ConvergenceWarning: Stochastic Optimizer: Maximum iterations reached and the optimization hasn't converged yet.\n",
      "  % (), ConvergenceWarning)\n"
     ]
    },
    {
     "name": "stdout",
     "output_type": "stream",
     "text": [
      "Iteration 1, loss = 0.82438630\n",
      "Iteration 2, loss = 0.25874840\n",
      "Iteration 3, loss = 1.01485889\n",
      "Iteration 4, loss = 0.23356027\n",
      "Iteration 5, loss = 0.17288887\n",
      "Iteration 6, loss = 0.13914482\n",
      "Iteration 7, loss = 0.11251162\n",
      "Iteration 8, loss = 0.10111344\n",
      "Iteration 9, loss = 0.08639655\n",
      "Iteration 10, loss = 0.07165107\n"
     ]
    },
    {
     "name": "stderr",
     "output_type": "stream",
     "text": [
      "D:\\Anaconda3\\lib\\site-packages\\sklearn\\neural_network\\multilayer_perceptron.py:563: ConvergenceWarning: Stochastic Optimizer: Maximum iterations reached and the optimization hasn't converged yet.\n",
      "  % (), ConvergenceWarning)\n"
     ]
    },
    {
     "name": "stdout",
     "output_type": "stream",
     "text": [
      "Iteration 1, loss = 0.72063738\n",
      "Iteration 2, loss = 0.23949650\n",
      "Iteration 3, loss = 0.16812028\n",
      "Iteration 4, loss = 0.12829145\n",
      "Iteration 5, loss = 0.08814535\n",
      "Iteration 6, loss = 0.06528626\n",
      "Iteration 7, loss = 0.07555339\n",
      "Iteration 8, loss = 1.64609863\n",
      "Iteration 9, loss = 0.30794607\n",
      "Training loss did not improve more than tol=0.000100 for two consecutive epochs. Stopping.\n",
      "Iteration 1, loss = 0.77447382\n",
      "Iteration 2, loss = 0.23399938\n",
      "Iteration 3, loss = 0.16095154\n",
      "Iteration 4, loss = 0.11999483\n",
      "Iteration 5, loss = 0.69665373\n",
      "Iteration 6, loss = 0.16318997\n",
      "Iteration 7, loss = 0.10635723\n",
      "Iteration 8, loss = 0.10349656\n",
      "Iteration 9, loss = 0.06646714\n",
      "Iteration 10, loss = 0.04581457\n"
     ]
    },
    {
     "name": "stderr",
     "output_type": "stream",
     "text": [
      "D:\\Anaconda3\\lib\\site-packages\\sklearn\\neural_network\\multilayer_perceptron.py:563: ConvergenceWarning: Stochastic Optimizer: Maximum iterations reached and the optimization hasn't converged yet.\n",
      "  % (), ConvergenceWarning)\n"
     ]
    },
    {
     "name": "stdout",
     "output_type": "stream",
     "text": [
      "Iteration 1, loss = 1.24684066\n",
      "Iteration 2, loss = 0.43211011\n",
      "Iteration 3, loss = 0.99371805\n",
      "Iteration 4, loss = 0.52614458\n",
      "Iteration 5, loss = 0.41352138\n",
      "Iteration 6, loss = 0.36490241\n",
      "Iteration 7, loss = 0.33829352\n",
      "Iteration 8, loss = 0.31701234\n",
      "Iteration 9, loss = 0.31026822\n",
      "Iteration 10, loss = 0.29555425\n"
     ]
    },
    {
     "name": "stderr",
     "output_type": "stream",
     "text": [
      "D:\\Anaconda3\\lib\\site-packages\\sklearn\\neural_network\\multilayer_perceptron.py:563: ConvergenceWarning: Stochastic Optimizer: Maximum iterations reached and the optimization hasn't converged yet.\n",
      "  % (), ConvergenceWarning)\n"
     ]
    },
    {
     "name": "stdout",
     "output_type": "stream",
     "text": [
      "Iteration 1, loss = 1.00310746\n",
      "Iteration 2, loss = 0.33447577\n",
      "Iteration 3, loss = 0.24707166\n",
      "Iteration 4, loss = 0.20059050\n",
      "Iteration 5, loss = 0.65855097\n",
      "Iteration 6, loss = 0.23977948\n",
      "Iteration 7, loss = 0.20177651\n",
      "Training loss did not improve more than tol=0.000100 for two consecutive epochs. Stopping.\n",
      "Iteration 1, loss = 0.81457274\n",
      "Iteration 2, loss = 0.25901173\n",
      "Iteration 3, loss = 0.78948227\n",
      "Iteration 4, loss = 0.22246483\n",
      "Iteration 5, loss = 0.16539281\n",
      "Iteration 6, loss = 0.13721071\n",
      "Iteration 7, loss = 0.79746186\n",
      "Iteration 8, loss = 0.25221474\n",
      "Iteration 9, loss = 0.39058177\n",
      "Training loss did not improve more than tol=0.000100 for two consecutive epochs. Stopping.\n",
      "Iteration 1, loss = 0.70559083\n",
      "Iteration 2, loss = 0.23624995\n",
      "Iteration 3, loss = 0.16647182\n",
      "Iteration 4, loss = 0.12692616\n",
      "Iteration 5, loss = 0.09495785\n",
      "Iteration 6, loss = 0.33746266\n",
      "Iteration 7, loss = 0.09506544\n",
      "Iteration 8, loss = 0.06951859\n",
      "Iteration 9, loss = 0.04492136\n",
      "Iteration 10, loss = 0.03063069\n"
     ]
    },
    {
     "name": "stderr",
     "output_type": "stream",
     "text": [
      "D:\\Anaconda3\\lib\\site-packages\\sklearn\\neural_network\\multilayer_perceptron.py:563: ConvergenceWarning: Stochastic Optimizer: Maximum iterations reached and the optimization hasn't converged yet.\n",
      "  % (), ConvergenceWarning)\n"
     ]
    },
    {
     "name": "stdout",
     "output_type": "stream",
     "text": [
      "Iteration 1, loss = 0.79262790\n",
      "Iteration 2, loss = 0.23369143\n",
      "Iteration 3, loss = 0.15470480\n",
      "Iteration 4, loss = 0.10922491\n",
      "Iteration 5, loss = 0.08302476\n",
      "Iteration 6, loss = 0.05751253\n",
      "Iteration 7, loss = 0.04226786\n",
      "Iteration 8, loss = 0.03026411\n",
      "Iteration 9, loss = 0.02176469\n",
      "Iteration 10, loss = 0.55747035\n"
     ]
    },
    {
     "name": "stderr",
     "output_type": "stream",
     "text": [
      "D:\\Anaconda3\\lib\\site-packages\\sklearn\\neural_network\\multilayer_perceptron.py:563: ConvergenceWarning: Stochastic Optimizer: Maximum iterations reached and the optimization hasn't converged yet.\n",
      "  % (), ConvergenceWarning)\n"
     ]
    },
    {
     "name": "stdout",
     "output_type": "stream",
     "text": [
      "Iteration 1, loss = 1.32403536\n",
      "Iteration 2, loss = 0.46850244\n",
      "Iteration 3, loss = 1.81732645\n",
      "Iteration 4, loss = 1.09010703\n",
      "Iteration 5, loss = 1.00059166\n",
      "Training loss did not improve more than tol=0.000100 for two consecutive epochs. Stopping.\n",
      "Iteration 1, loss = 0.92601461\n",
      "Iteration 2, loss = 0.31435463\n",
      "Iteration 3, loss = 1.06075159\n",
      "Iteration 4, loss = 0.41228545\n",
      "Iteration 5, loss = 0.38411835\n",
      "Training loss did not improve more than tol=0.000100 for two consecutive epochs. Stopping.\n",
      "Iteration 1, loss = 0.83040680\n",
      "Iteration 2, loss = 0.26367480\n",
      "Iteration 3, loss = 1.00381224\n",
      "Iteration 4, loss = 0.25186480\n",
      "Iteration 5, loss = 0.19493333\n",
      "Iteration 6, loss = 0.15539808\n",
      "Iteration 7, loss = 0.66227258\n",
      "Iteration 8, loss = 0.23923389\n",
      "Iteration 9, loss = 0.52421580\n",
      "Training loss did not improve more than tol=0.000100 for two consecutive epochs. Stopping.\n",
      "Iteration 1, loss = 0.74428212\n",
      "Iteration 2, loss = 0.24079066\n",
      "Iteration 3, loss = 0.16852158\n",
      "Iteration 4, loss = 0.13372222\n",
      "Iteration 5, loss = 0.10431823\n",
      "Iteration 6, loss = 0.08613349\n",
      "Iteration 7, loss = 0.05470023\n",
      "Iteration 8, loss = 0.04020246\n",
      "Iteration 9, loss = 0.02692555\n",
      "Iteration 10, loss = 0.02730752\n"
     ]
    },
    {
     "name": "stderr",
     "output_type": "stream",
     "text": [
      "D:\\Anaconda3\\lib\\site-packages\\sklearn\\neural_network\\multilayer_perceptron.py:563: ConvergenceWarning: Stochastic Optimizer: Maximum iterations reached and the optimization hasn't converged yet.\n",
      "  % (), ConvergenceWarning)\n"
     ]
    },
    {
     "name": "stdout",
     "output_type": "stream",
     "text": [
      "Iteration 1, loss = 0.82783047\n",
      "Iteration 2, loss = 0.57272682\n",
      "Iteration 3, loss = 0.19367182\n",
      "Iteration 4, loss = 0.13252615\n",
      "Iteration 5, loss = 0.10121732\n",
      "Iteration 6, loss = 0.07471255\n",
      "Iteration 7, loss = 0.05676647\n",
      "Iteration 8, loss = 0.04415037\n",
      "Iteration 9, loss = 0.03039997\n",
      "Iteration 10, loss = 0.02703080\n",
      "Iteration 1, loss = 1.30074268\n"
     ]
    },
    {
     "name": "stderr",
     "output_type": "stream",
     "text": [
      "D:\\Anaconda3\\lib\\site-packages\\sklearn\\neural_network\\multilayer_perceptron.py:563: ConvergenceWarning: Stochastic Optimizer: Maximum iterations reached and the optimization hasn't converged yet.\n",
      "  % (), ConvergenceWarning)\n"
     ]
    },
    {
     "name": "stdout",
     "output_type": "stream",
     "text": [
      "Iteration 2, loss = 0.44940235\n",
      "Iteration 3, loss = 0.96491406\n",
      "Iteration 4, loss = 0.44081133\n",
      "Iteration 5, loss = 0.35481794\n",
      "Iteration 6, loss = 0.53032771\n",
      "Iteration 7, loss = 0.36314835\n",
      "Iteration 8, loss = 0.31416079\n",
      "Iteration 9, loss = 0.28943256\n",
      "Iteration 10, loss = 0.26544893\n",
      "Iteration 1, loss = 1.04867622\n"
     ]
    },
    {
     "name": "stderr",
     "output_type": "stream",
     "text": [
      "D:\\Anaconda3\\lib\\site-packages\\sklearn\\neural_network\\multilayer_perceptron.py:563: ConvergenceWarning: Stochastic Optimizer: Maximum iterations reached and the optimization hasn't converged yet.\n",
      "  % (), ConvergenceWarning)\n"
     ]
    },
    {
     "name": "stdout",
     "output_type": "stream",
     "text": [
      "Iteration 2, loss = 0.33709079\n",
      "Iteration 3, loss = 0.26050449\n",
      "Iteration 4, loss = 0.19984495\n",
      "Iteration 5, loss = 0.17144745\n",
      "Iteration 6, loss = 0.13618263\n",
      "Iteration 7, loss = 0.65774883\n",
      "Iteration 8, loss = 0.21093101\n",
      "Iteration 9, loss = 0.16151059\n",
      "Training loss did not improve more than tol=0.000100 for two consecutive epochs. Stopping.\n",
      "Iteration 1, loss = 0.83035768\n",
      "Iteration 2, loss = 0.25720301\n",
      "Iteration 3, loss = 0.82076672\n",
      "Iteration 4, loss = 0.23261915\n",
      "Iteration 5, loss = 0.15946379\n",
      "Iteration 6, loss = 0.12189619\n",
      "Iteration 7, loss = 0.18415185\n",
      "Iteration 8, loss = 0.09925235\n",
      "Iteration 9, loss = 0.11875773\n",
      "Iteration 10, loss = 0.06922819\n"
     ]
    },
    {
     "name": "stderr",
     "output_type": "stream",
     "text": [
      "D:\\Anaconda3\\lib\\site-packages\\sklearn\\neural_network\\multilayer_perceptron.py:563: ConvergenceWarning: Stochastic Optimizer: Maximum iterations reached and the optimization hasn't converged yet.\n",
      "  % (), ConvergenceWarning)\n"
     ]
    },
    {
     "name": "stdout",
     "output_type": "stream",
     "text": [
      "Iteration 1, loss = 0.72206052\n",
      "Iteration 2, loss = 0.24458878\n",
      "Iteration 3, loss = 0.40284047\n",
      "Iteration 4, loss = 0.78453473\n",
      "Iteration 5, loss = 0.19621946\n",
      "Iteration 6, loss = 0.13955970\n",
      "Iteration 7, loss = 0.11129606\n",
      "Iteration 8, loss = 0.20055476\n",
      "Iteration 9, loss = 0.51074099\n",
      "Iteration 10, loss = 0.14146996\n",
      "Training loss did not improve more than tol=0.000100 for two consecutive epochs. Stopping.\n",
      "Iteration 1, loss = 0.79218847\n",
      "Iteration 2, loss = 0.68402770\n",
      "Iteration 3, loss = 0.22962385\n",
      "Iteration 4, loss = 0.16341120\n",
      "Iteration 5, loss = 0.10921594\n",
      "Iteration 6, loss = 0.07820200\n",
      "Iteration 7, loss = 0.05614769\n",
      "Iteration 8, loss = 0.04211918\n",
      "Iteration 9, loss = 0.02918220\n",
      "Iteration 10, loss = 0.02197686\n"
     ]
    },
    {
     "name": "stderr",
     "output_type": "stream",
     "text": [
      "D:\\Anaconda3\\lib\\site-packages\\sklearn\\neural_network\\multilayer_perceptron.py:563: ConvergenceWarning: Stochastic Optimizer: Maximum iterations reached and the optimization hasn't converged yet.\n",
      "  % (), ConvergenceWarning)\n"
     ]
    }
   ],
   "source": [
    "# 优化节点数\n",
    "from sklearn.model_selection import validation_curve\n",
    "train_score, test_score = validation_curve(model, x, y, 'hidden_layer_sizes', [(10, 10),(20,20),(50, 50),(80,80),(100,100)], cv=10, scoring='accuracy', n_jobs=1)"
   ]
  },
  {
   "cell_type": "code",
   "execution_count": 10,
   "metadata": {
    "collapsed": false
   },
   "outputs": [
    {
     "data": {
      "text/plain": [
       "(array([[ 0.94864384,  0.93065126,  0.96410313,  0.90910101,  0.936     ,\n",
       "          0.2704144 ,  0.34373958,  0.91146412,  0.72306154,  0.93002333],\n",
       "        [ 0.98354824,  0.9717715 ,  0.97843965,  0.98355373,  0.97833333,\n",
       "          0.4591712 ,  0.97144762,  0.9508998 ,  0.90557654,  0.9545707 ],\n",
       "        [ 0.99777679,  0.9956657 ,  0.99788842,  0.99733304,  0.99544444,\n",
       "          0.98144651,  0.9818909 ,  0.9329038 ,  0.90968674,  0.98611574],\n",
       "        [ 0.99922188,  0.99888864,  0.99855523,  0.99866652,  0.99933333,\n",
       "          0.93878458,  0.79346739,  0.99500111,  0.9958898 ,  0.95445962],\n",
       "        [ 0.99833259,  0.99944432,  0.99955546,  0.99944438,  0.99955556,\n",
       "          0.10087768,  0.53582935,  0.95267718,  0.99700067,  0.99822281]]),\n",
       " array([[ 0.89442231,  0.90419162,  0.87824351,  0.87412587,  0.913     ,\n",
       "          0.26526527,  0.34834835,  0.87775551,  0.76753507,  0.91975928],\n",
       "        [ 0.92131474,  0.94211577,  0.90818363,  0.93006993,  0.921     ,\n",
       "          0.47847848,  0.93693694,  0.91082164,  0.91182365,  0.93681043],\n",
       "        [ 0.94223108,  0.95508982,  0.91317365,  0.95004995,  0.948     ,\n",
       "          0.92692693,  0.94194194,  0.91583166,  0.9258517 ,  0.95687061],\n",
       "        [ 0.94621514,  0.96207585,  0.91317365,  0.94605395,  0.952     ,\n",
       "          0.9019019 ,  0.78178178,  0.9498998 ,  0.97294589,  0.9217653 ],\n",
       "        [ 0.9561753 ,  0.95908184,  0.92015968,  0.94805195,  0.956     ,\n",
       "          0.1011011 ,  0.56456456,  0.9248497 ,  0.97294589,  0.96288867]]))"
      ]
     },
     "execution_count": 10,
     "metadata": {},
     "output_type": "execute_result"
    }
   ],
   "source": [
    "train_score,test_score\n"
   ]
  },
  {
   "cell_type": "code",
   "execution_count": 11,
   "metadata": {
    "collapsed": false
   },
   "outputs": [
    {
     "data": {
      "text/plain": [
       "[<matplotlib.lines.Line2D at 0x91d3da0>,\n",
       " <matplotlib.lines.Line2D at 0x91d3f60>,\n",
       " <matplotlib.lines.Line2D at 0x91db198>,\n",
       " <matplotlib.lines.Line2D at 0x91db390>,\n",
       " <matplotlib.lines.Line2D at 0x91db588>,\n",
       " <matplotlib.lines.Line2D at 0x91db780>,\n",
       " <matplotlib.lines.Line2D at 0x91db978>,\n",
       " <matplotlib.lines.Line2D at 0x91dbb70>,\n",
       " <matplotlib.lines.Line2D at 0x91dbd68>,\n",
       " <matplotlib.lines.Line2D at 0x91dbf60>]"
      ]
     },
     "execution_count": 11,
     "metadata": {},
     "output_type": "execute_result"
    },
    {
     "data": {
      "image/png": "[encoded data removed]",
      "text/plain": [
       "<matplotlib.figure.Figure at 0x1618a828>"
      ]
     },
     "metadata": {},
     "output_type": "display_data"
    }
   ],
   "source": [
    "plt.plot(train_score)"
   ]
  },
  {
   "cell_type": "code",
   "execution_count": 12,
   "metadata": {
    "collapsed": false
   },
   "outputs": [
    {
     "data": {
      "text/plain": [
       "[<matplotlib.lines.Line2D at 0x929b710>,\n",
       " <matplotlib.lines.Line2D at 0x929b8d0>,\n",
       " <matplotlib.lines.Line2D at 0x929bac8>,\n",
       " <matplotlib.lines.Line2D at 0x929bcc0>,\n",
       " <matplotlib.lines.Line2D at 0x929beb8>,\n",
       " <matplotlib.lines.Line2D at 0x92a30f0>,\n",
       " <matplotlib.lines.Line2D at 0x92a32e8>,\n",
       " <matplotlib.lines.Line2D at 0x92a34e0>,\n",
       " <matplotlib.lines.Line2D at 0x92a36d8>,\n",
       " <matplotlib.lines.Line2D at 0x92a38d0>]"
      ]
     },
     "execution_count": 12,
     "metadata": {},
     "output_type": "execute_result"
    },
    {
     "data": {
      "image/png": "[encoded data removed]",
      "text/plain": [
       "<matplotlib.figure.Figure at 0x920e7f0>"
      ]
     },
     "metadata": {},
     "output_type": "display_data"
    }
   ],
   "source": [
    "plt.plot(test_score)"
   ]
  },
  {
   "cell_type": "code",
   "execution_count": null,
   "metadata": {
    "collapsed": true
   },
   "outputs": [],
   "source": []
  }
 ],
 "metadata": {
  "kernelspec": {
   "display_name": "Python 3",
   "language": "python",
   "name": "python3"
  },
  "language_info": {
   "codemirror_mode": {
    "name": "ipython",
    "version": 3
   },
   "file_extension": ".py",
   "mimetype": "text/x-python",
   "name": "python",
   "nbconvert_exporter": "python",
   "pygments_lexer": "ipython3",
   "version": "3.6.0"
  }
 },
 "nbformat": 4,
 "nbformat_minor": 2
}
