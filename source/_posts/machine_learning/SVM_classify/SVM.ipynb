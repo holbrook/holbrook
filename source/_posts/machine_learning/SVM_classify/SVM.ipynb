{
 "cells": [
  {
   "cell_type": "code",
   "execution_count": 1,
   "metadata": {},
   "outputs": [
    {
     "name": "stdout",
     "output_type": "stream",
     "text": [
      "Populating the interactive namespace from numpy and matplotlib\n"
     ]
    }
   ],
   "source": [
    "import pandas as pd\n",
    "import warnings \n",
    "# 用来忽略seaborn绘图库产生的warnings\n",
    "warnings.filterwarnings(\"ignore\")\n",
    "import seaborn as sns\n",
    "import matplotlib.pyplot as plt\n",
    "sns.set(style=\"white\", color_codes=True)\n",
    "%pylab inline"
   ]
  },
  {
   "cell_type": "markdown",
   "metadata": {},
   "source": [
    "## 数据概览"
   ]
  },
  {
   "cell_type": "code",
   "execution_count": 2,
   "metadata": {},
   "outputs": [
    {
     "data": {
      "text/html": [
       "<div>\n",
       "<style>\n",
       "    .dataframe thead tr:only-child th {\n",
       "        text-align: right;\n",
       "    }\n",
       "\n",
       "    .dataframe thead th {\n",
       "        text-align: left;\n",
       "    }\n",
       "\n",
       "    .dataframe tbody tr th {\n",
       "        vertical-align: top;\n",
       "    }\n",
       "</style>\n",
       "<table border=\"1\" class=\"dataframe\">\n",
       "  <thead>\n",
       "    <tr style=\"text-align: right;\">\n",
       "      <th></th>\n",
       "      <th>sepal_length</th>\n",
       "      <th>sepal_width</th>\n",
       "      <th>petal_length</th>\n",
       "      <th>petal_width</th>\n",
       "      <th>target</th>\n",
       "    </tr>\n",
       "  </thead>\n",
       "  <tbody>\n",
       "    <tr>\n",
       "      <th>0</th>\n",
       "      <td>5.1</td>\n",
       "      <td>3.5</td>\n",
       "      <td>1.4</td>\n",
       "      <td>0.2</td>\n",
       "      <td>0</td>\n",
       "    </tr>\n",
       "    <tr>\n",
       "      <th>1</th>\n",
       "      <td>4.9</td>\n",
       "      <td>3.0</td>\n",
       "      <td>1.4</td>\n",
       "      <td>0.2</td>\n",
       "      <td>0</td>\n",
       "    </tr>\n",
       "    <tr>\n",
       "      <th>2</th>\n",
       "      <td>4.7</td>\n",
       "      <td>3.2</td>\n",
       "      <td>1.3</td>\n",
       "      <td>0.2</td>\n",
       "      <td>0</td>\n",
       "    </tr>\n",
       "    <tr>\n",
       "      <th>3</th>\n",
       "      <td>4.6</td>\n",
       "      <td>3.1</td>\n",
       "      <td>1.5</td>\n",
       "      <td>0.2</td>\n",
       "      <td>0</td>\n",
       "    </tr>\n",
       "    <tr>\n",
       "      <th>4</th>\n",
       "      <td>5.0</td>\n",
       "      <td>3.6</td>\n",
       "      <td>1.4</td>\n",
       "      <td>0.2</td>\n",
       "      <td>0</td>\n",
       "    </tr>\n",
       "  </tbody>\n",
       "</table>\n",
       "</div>"
      ],
      "text/plain": [
       "   sepal_length  sepal_width  petal_length  petal_width  target\n",
       "0           5.1          3.5           1.4          0.2       0\n",
       "1           4.9          3.0           1.4          0.2       0\n",
       "2           4.7          3.2           1.3          0.2       0\n",
       "3           4.6          3.1           1.5          0.2       0\n",
       "4           5.0          3.6           1.4          0.2       0"
      ]
     },
     "execution_count": 2,
     "metadata": {},
     "output_type": "execute_result"
    }
   ],
   "source": [
    "from sklearn.datasets import load_iris\n",
    "iris = load_iris()\n",
    "df = pd.DataFrame(iris.data,columns=['sepal_length','sepal_width','petal_length','petal_width'])\n",
    "df['target']=pd.Series(iris.target)\n",
    "df.head()"
   ]
  },
  {
   "cell_type": "code",
   "execution_count": 3,
   "metadata": {},
   "outputs": [
    {
     "data": {
      "text/plain": [
       "<seaborn.axisgrid.FacetGrid at 0x10e0c3cc0>"
      ]
     },
     "execution_count": 3,
     "metadata": {},
     "output_type": "execute_result"
    },
    {
     "data": {
      "image/png": "[encoded data removed]",
      "text/plain": [
       "<matplotlib.figure.Figure at 0x10e0c3c18>"
      ]
     },
     "metadata": {},
     "output_type": "display_data"
    },
    {
     "data": {
      "image/png": "[encoded data removed]",
      "text/plain": [
       "<matplotlib.figure.Figure at 0x10e1d7550>"
      ]
     },
     "metadata": {},
     "output_type": "display_data"
    }
   ],
   "source": [
    "sns.FacetGrid(df, hue=\"target\", size=5).map(plt.scatter, \"sepal_length\", \"sepal_width\").add_legend()\n",
    "sns.FacetGrid(df, hue=\"target\", size=5).map(plt.scatter, \"petal_length\", \"petal_width\").add_legend()"
   ]
  },
  {
   "cell_type": "markdown",
   "metadata": {},
   "source": [
    "## 模型训练"
   ]
  },
  {
   "cell_type": "code",
   "execution_count": 5,
   "metadata": {},
   "outputs": [
    {
     "name": "stderr",
     "output_type": "stream",
     "text": [
      "/usr/local/Cellar/python3/3.6.2/Frameworks/Python.framework/Versions/3.6/lib/python3.6/site-packages/sklearn/cross_validation.py:41: DeprecationWarning: This module was deprecated in version 0.18 in favor of the model_selection module into which all the refactored classes and functions are moved. Also note that the interface of the new CV iterators are different from that of this module. This module will be removed in 0.20.\n",
      "  \"This module will be removed in 0.20.\", DeprecationWarning)\n"
     ]
    },
    {
     "data": {
      "text/plain": [
       "SVC(C=1.0, cache_size=200, class_weight=None, coef0=0.0,\n",
       "  decision_function_shape='ovr', degree=3, gamma='auto', kernel='rbf',\n",
       "  max_iter=-1, probability=False, random_state=None, shrinking=True,\n",
       "  tol=0.001, verbose=False)"
      ]
     },
     "execution_count": 5,
     "metadata": {},
     "output_type": "execute_result"
    }
   ],
   "source": [
    "# 拆分数据\n",
    "from sklearn.cross_validation import train_test_split\n",
    "x_train, x_test, y_train, y_test = train_test_split(df[['sepal_length','sepal_width']], df['target'], random_state=1)\n",
    "\n",
    "# 训练\n",
    "from sklearn import svm\n",
    "model = svm.SVC()\n",
    "model.fit(x_train,y_train) "
   ]
  },
  {
   "cell_type": "code",
   "execution_count": 12,
   "metadata": {},
   "outputs": [
    {
     "name": "stdout",
     "output_type": "stream",
     "text": [
      "[[ 5.7  3.8]\n",
      " [ 4.8  3. ]\n",
      " [ 5.5  3.5]\n",
      " [ 4.8  3. ]\n",
      " [ 5.1  3.3]\n",
      " [ 5.7  4.4]\n",
      " [ 4.5  2.3]\n",
      " [ 4.9  3. ]\n",
      " [ 5.4  3.4]\n",
      " [ 5.   3. ]\n",
      " [ 6.5  2.8]\n",
      " [ 6.6  2.9]\n",
      " [ 5.2  2.7]\n",
      " [ 6.   3.4]\n",
      " [ 5.7  3. ]\n",
      " [ 6.7  3.1]\n",
      " [ 5.7  2.8]\n",
      " [ 6.   2.2]\n",
      " [ 6.4  2.9]\n",
      " [ 5.   2.3]\n",
      " [ 6.   2.7]\n",
      " [ 5.8  2.7]\n",
      " [ 6.2  2.9]\n",
      " [ 6.3  2.3]\n",
      " [ 5.6  2.9]\n",
      " [ 5.8  2.7]\n",
      " [ 6.9  3.1]\n",
      " [ 6.8  2.8]\n",
      " [ 5.9  3.2]\n",
      " [ 5.6  3. ]\n",
      " [ 5.   2. ]\n",
      " [ 4.9  2.4]\n",
      " [ 5.9  3. ]\n",
      " [ 6.1  2.9]\n",
      " [ 6.7  3.1]\n",
      " [ 5.7  2.9]\n",
      " [ 6.2  2.2]\n",
      " [ 7.   3.2]\n",
      " [ 6.1  2.8]\n",
      " [ 5.7  2.6]\n",
      " [ 6.3  2.5]\n",
      " [ 6.7  2.5]\n",
      " [ 6.   2.2]\n",
      " [ 6.3  2.9]\n",
      " [ 7.7  2.6]\n",
      " [ 7.7  3.8]\n",
      " [ 6.4  2.8]\n",
      " [ 6.2  2.8]\n",
      " [ 5.7  2.5]\n",
      " [ 6.3  2.7]\n",
      " [ 6.5  3. ]\n",
      " [ 6.1  3. ]\n",
      " [ 6.5  3.2]\n",
      " [ 6.   3. ]\n",
      " [ 6.5  3. ]\n",
      " [ 6.3  3.3]\n",
      " [ 6.4  2.7]\n",
      " [ 5.9  3. ]\n",
      " [ 6.7  3. ]\n",
      " [ 6.2  3.4]\n",
      " [ 6.3  3.4]\n",
      " [ 5.6  2.8]\n",
      " [ 5.8  2.7]\n",
      " [ 6.5  3. ]\n",
      " [ 4.9  2.5]\n",
      " [ 6.4  3.2]\n",
      " [ 5.8  2.7]\n",
      " [ 6.1  2.6]\n",
      " [ 6.3  2.8]\n",
      " [ 6.4  3.1]]\n",
      "[  8  10  13  25  51  62  64  90 101 102   0   6  11  19  21  31  32  36\n",
      "  37  39  47  52  55  58  61  63  66  68  76  85  88  91  93  94  96  97\n",
      "  98  99 104 106 109   1   4   5   7  14  17  18  23  24  27  29  30  34\n",
      "  38  40  48  49  57  59  71  72  78  80  81  83 100 103 107 108]\n",
      "[10 31 29]\n"
     ]
    }
   ],
   "source": [
    "# 训练结果\n",
    "\n",
    "# get support vectors\n",
    "print(model.support_vectors_)\n",
    "\n",
    "# get indices of support vectors\n",
    "print(model.support_)\n",
    "\n",
    "# get number of support vectors for each class\n",
    "print(model.n_support_)"
   ]
  },
  {
   "cell_type": "code",
   "execution_count": 10,
   "metadata": {},
   "outputs": [
    {
     "data": {
      "text/plain": [
       "0.81578947368421051"
      ]
     },
     "execution_count": 10,
     "metadata": {},
     "output_type": "execute_result"
    }
   ],
   "source": [
    "# 检查得分\n",
    "model.score(x_test,y_test)"
   ]
  },
  {
   "cell_type": "code",
   "execution_count": null,
   "metadata": {
    "collapsed": true
   },
   "outputs": [],
   "source": []
  }
 ],
 "metadata": {
  "kernelspec": {
   "display_name": "Python 3",
   "language": "python",
   "name": "python3"
  },
  "language_info": {
   "codemirror_mode": {
    "name": "ipython",
    "version": 3
   },
   "file_extension": ".py",
   "mimetype": "text/x-python",
   "name": "python",
   "nbconvert_exporter": "python",
   "pygments_lexer": "ipython3",
   "version": "3.6.2"
  }
 },
 "nbformat": 4,
 "nbformat_minor": 2
}
